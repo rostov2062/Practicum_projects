{
  "cells": [
    {
      "cell_type": "markdown",
      "id": "650ead4a",
      "metadata": {
        "id": "650ead4a"
      },
      "source": [
        "### **Задание проекта**\n",
        "\n",
        "**Сервис аренды самокатов GoFast передал для анализа данные о поездках пользователяе из нескольких городов. Необходимо провести исследование и проверить некоторые гипотезы, которые могут помочь бизнесу компании.**\n",
        "\n",
        "Для поездок по городу клиенты GoFast используют мобильное приложение.\n",
        "\n",
        "Сервис без подписки (free): без абонентской платы, минута поездки — 8₽, старт начала поездки — 50₽.\n",
        "\n",
        "Сервис c подпиской (Ultra): абонентская плата - 199₽ , минута поездки — 6₽, старт начала поездки бесплатный.\n",
        "\n",
        "Отличный план проекта! На основе предоставленного текста можно сформулировать следующий список гипотез для проверки.\n",
        "\n",
        "### Список гипотез для проверки в проекте\n",
        "\n",
        "1.  **Гипотеза о времени поездки:** Пользователи с подпиской в среднем тратят на поездки **больше времени**, чем пользователи без подписки.\n",
        "    *   **Нулевая гипотеза (H0):** Среднее время поездки пользователей с подпиской **равно** среднему времени поездки пользователей без подписки.\n",
        "    *   **Альтернативная гипотеза (H1):** Среднее время поездки пользователей с подпиской **больше** среднего времени поездки пользователей без подписки.\n",
        "    *   **Метод проверки:** Двухвыборочный t-тест (независимые выборки).\n",
        "\n",
        "2.  **Гипотеза о расстоянии поездки:** Среднее расстояние, которое проезжают пользователи с подпиской за одну поездку, **не превышает** 3130 метров.\n",
        "    *   **Нулевая гипотеза (H0):** Среднее расстояние поездки подписчиков **≤ 3130 метров**.\n",
        "    *   **Альтернативная гипотеза (H1):** Среднее расстояние поездки подписчиков **> 3130 метров**.\n",
        "    *   **Метод проверки:** Одновыборочный t-тест (сравнение среднего одной выборки с заданным значением).\n",
        "\n",
        "3.  **Гипотеза о выручке:** Помесячная выручка от пользователей с подпиской **статистически значимо выше**, чем выручка от пользователей без подписки.\n",
        "    *   **Нулевая гипотеза (H0):** Средняя месячная выручка от пользователей с подпиской **равна** средней месячной выручке от пользователей без подписки.\n",
        "    *   **Альтернативная гипотеза (H1):** Средняя месячная выручка от пользователей с подпиской **больше** средней месячной выручки от пользователей без подписки.\n",
        "    *   **Метод проверки:** Двухвыборочный t-тест (независимые выборки) по агрегированным данным.\n",
        "\n",
        "4.  **Гипотеза об обращениях в поддержку:** После обновления серверов **количество обращений в техническую поддержку значимо снизилось**.\n",
        "    *   **Нулевая гипотеза (H0):** Среднее количество обращений после обновления **равно** среднему количеству обращений до обновления.\n",
        "    *   **Альтернативная гипотеза (H1):** Среднее количество обращений после обновления **меньше** среднего количества обращений до обновления.\n",
        "    *   **Метод проверки:** **Парный t-тест** (зависимые выборки).\n",
        "\n",
        "5.  **Гипотеза для акции с промокодами (Биномиальное распределение):**\n",
        "    *   **Описание:** Вероятность того, что пользователь продлит подписку после пробного периода, составляет 10% (p=0.1). Необходимо найти минимальное количество промокодов (N), которое нужно разослать, чтобы вероятность того, что продлят подписку **менее 100 пользователей**, была примерно 5%.\n",
        "\n",
        "6.  **Гипотеза для push-уведомлений (Нормальная аппроксимация биномиального распределения):**\n",
        "    *   **Описание:** Вероятность открытия уведомления клиентом составляет 40% (p=0.4). Планируется разослать 1 млн уведомлений (n=1,000,000). Необходимо оценить вероятность того, что уведомление откроют **не более 399,5 тыс.** пользователей.\n",
        "  "
      ]
    },
    {
      "cell_type": "code",
      "execution_count": null,
      "id": "72576667",
      "metadata": {
        "id": "72576667"
      },
      "outputs": [],
      "source": [
        "# импорт необходимых библиотек\n",
        "import pandas as pd\n",
        "import matplotlib.pyplot as plt\n",
        "import numpy as np\n",
        "from scipy import stats as st\n",
        "from scipy.stats import binom"
      ]
    },
    {
      "cell_type": "markdown",
      "id": "c42cbe00",
      "metadata": {
        "id": "c42cbe00"
      },
      "source": [
        "#### Шаг 1. Загрузка данных"
      ]
    },
    {
      "cell_type": "code",
      "execution_count": null,
      "id": "eff9f206",
      "metadata": {
        "id": "eff9f206",
        "outputId": "83a631f7-db63-4a0c-c6ed-5ff088b1561a"
      },
      "outputs": [
        {
          "data": {
            "text/html": [
              "<div>\n",
              "<style scoped>\n",
              "    .dataframe tbody tr th:only-of-type {\n",
              "        vertical-align: middle;\n",
              "    }\n",
              "\n",
              "    .dataframe tbody tr th {\n",
              "        vertical-align: top;\n",
              "    }\n",
              "\n",
              "    .dataframe thead th {\n",
              "        text-align: right;\n",
              "    }\n",
              "</style>\n",
              "<table border=\"1\" class=\"dataframe\">\n",
              "  <thead>\n",
              "    <tr style=\"text-align: right;\">\n",
              "      <th></th>\n",
              "      <th>user_id</th>\n",
              "      <th>name</th>\n",
              "      <th>age</th>\n",
              "      <th>city</th>\n",
              "      <th>subscription_type</th>\n",
              "    </tr>\n",
              "  </thead>\n",
              "  <tbody>\n",
              "    <tr>\n",
              "      <th>0</th>\n",
              "      <td>1</td>\n",
              "      <td>Кира</td>\n",
              "      <td>22</td>\n",
              "      <td>Тюмень</td>\n",
              "      <td>ultra</td>\n",
              "    </tr>\n",
              "    <tr>\n",
              "      <th>1</th>\n",
              "      <td>2</td>\n",
              "      <td>Станислав</td>\n",
              "      <td>31</td>\n",
              "      <td>Омск</td>\n",
              "      <td>ultra</td>\n",
              "    </tr>\n",
              "    <tr>\n",
              "      <th>2</th>\n",
              "      <td>3</td>\n",
              "      <td>Алексей</td>\n",
              "      <td>20</td>\n",
              "      <td>Москва</td>\n",
              "      <td>ultra</td>\n",
              "    </tr>\n",
              "    <tr>\n",
              "      <th>3</th>\n",
              "      <td>4</td>\n",
              "      <td>Константин</td>\n",
              "      <td>26</td>\n",
              "      <td>Ростов-на-Дону</td>\n",
              "      <td>ultra</td>\n",
              "    </tr>\n",
              "    <tr>\n",
              "      <th>4</th>\n",
              "      <td>5</td>\n",
              "      <td>Адель</td>\n",
              "      <td>28</td>\n",
              "      <td>Омск</td>\n",
              "      <td>ultra</td>\n",
              "    </tr>\n",
              "  </tbody>\n",
              "</table>\n",
              "</div>"
            ],
            "text/plain": [
              "   user_id        name  age            city subscription_type\n",
              "0        1        Кира   22          Тюмень             ultra\n",
              "1        2   Станислав   31            Омск             ultra\n",
              "2        3     Алексей   20          Москва             ultra\n",
              "3        4  Константин   26  Ростов-на-Дону             ultra\n",
              "4        5       Адель   28            Омск             ultra"
            ]
          },
          "execution_count": 2,
          "metadata": {},
          "output_type": "execute_result"
        }
      ],
      "source": [
        "users_go = pd.read_csv('/datasets/users_go.csv')\n",
        "users_go.head()"
      ]
    },
    {
      "cell_type": "markdown",
      "id": "cd249139",
      "metadata": {
        "id": "cd249139"
      },
      "source": [
        "<div class=\"alert alert-block alert-info\">\n",
        "<b>Комментарий:</b>\n",
        "\n",
        "Датафрейм содержит информацию о пользователях, городе и подписке.\n",
        "\n",
        "Столбцы users_go.csv:\n",
        "    \n",
        "user_id\t- уникальный идентификатор пользователя\n",
        "    \n",
        "name - имя пользователя\n",
        "    \n",
        "age - возраст\n",
        "    \n",
        "city- город\n",
        "    \n",
        "subscription_type - тип подписки (free, ultra) </div>"
      ]
    },
    {
      "cell_type": "code",
      "execution_count": null,
      "id": "c7141c07",
      "metadata": {
        "id": "c7141c07",
        "outputId": "e9682271-26c6-44ec-98d4-a7828719388b"
      },
      "outputs": [
        {
          "data": {
            "text/html": [
              "<div>\n",
              "<style scoped>\n",
              "    .dataframe tbody tr th:only-of-type {\n",
              "        vertical-align: middle;\n",
              "    }\n",
              "\n",
              "    .dataframe tbody tr th {\n",
              "        vertical-align: top;\n",
              "    }\n",
              "\n",
              "    .dataframe thead th {\n",
              "        text-align: right;\n",
              "    }\n",
              "</style>\n",
              "<table border=\"1\" class=\"dataframe\">\n",
              "  <thead>\n",
              "    <tr style=\"text-align: right;\">\n",
              "      <th></th>\n",
              "      <th>user_id</th>\n",
              "      <th>distance</th>\n",
              "      <th>duration</th>\n",
              "      <th>date</th>\n",
              "    </tr>\n",
              "  </thead>\n",
              "  <tbody>\n",
              "    <tr>\n",
              "      <th>0</th>\n",
              "      <td>1</td>\n",
              "      <td>4409.919140</td>\n",
              "      <td>25.599769</td>\n",
              "      <td>2021-01-01</td>\n",
              "    </tr>\n",
              "    <tr>\n",
              "      <th>1</th>\n",
              "      <td>1</td>\n",
              "      <td>2617.592153</td>\n",
              "      <td>15.816871</td>\n",
              "      <td>2021-01-18</td>\n",
              "    </tr>\n",
              "    <tr>\n",
              "      <th>2</th>\n",
              "      <td>1</td>\n",
              "      <td>754.159807</td>\n",
              "      <td>6.232113</td>\n",
              "      <td>2021-04-20</td>\n",
              "    </tr>\n",
              "    <tr>\n",
              "      <th>3</th>\n",
              "      <td>1</td>\n",
              "      <td>2694.783254</td>\n",
              "      <td>18.511000</td>\n",
              "      <td>2021-08-11</td>\n",
              "    </tr>\n",
              "    <tr>\n",
              "      <th>4</th>\n",
              "      <td>1</td>\n",
              "      <td>4028.687306</td>\n",
              "      <td>26.265803</td>\n",
              "      <td>2021-08-28</td>\n",
              "    </tr>\n",
              "  </tbody>\n",
              "</table>\n",
              "</div>"
            ],
            "text/plain": [
              "   user_id     distance   duration        date\n",
              "0        1  4409.919140  25.599769  2021-01-01\n",
              "1        1  2617.592153  15.816871  2021-01-18\n",
              "2        1   754.159807   6.232113  2021-04-20\n",
              "3        1  2694.783254  18.511000  2021-08-11\n",
              "4        1  4028.687306  26.265803  2021-08-28"
            ]
          },
          "execution_count": 3,
          "metadata": {},
          "output_type": "execute_result"
        }
      ],
      "source": [
        "rides_go = pd.read_csv('/datasets/rides_go.csv')\n",
        "rides_go.head()"
      ]
    },
    {
      "cell_type": "markdown",
      "id": "0dd6bf84",
      "metadata": {
        "id": "0dd6bf84"
      },
      "source": [
        "<div class=\"alert alert-block alert-info\">\n",
        "<b>Комментарий:</b>\n",
        "\n",
        "Датафрейм содержит информацию о поездках пользователей.\n",
        "\n",
        "Столбцы rides_go.csv:\n",
        "    \n",
        "user_id\t- уникальный идентификатор пользователя\n",
        "    \n",
        "distance - расстояние, которое пользователь проехал в метрах\n",
        "    \n",
        "duration - продолжительность поездки в минутах\n",
        "    \n",
        "date - дата поездки </div>"
      ]
    },
    {
      "cell_type": "code",
      "execution_count": null,
      "id": "35e37784",
      "metadata": {
        "id": "35e37784",
        "outputId": "10ef4581-352e-487e-870d-b3265981ea0f"
      },
      "outputs": [
        {
          "data": {
            "text/html": [
              "<div>\n",
              "<style scoped>\n",
              "    .dataframe tbody tr th:only-of-type {\n",
              "        vertical-align: middle;\n",
              "    }\n",
              "\n",
              "    .dataframe tbody tr th {\n",
              "        vertical-align: top;\n",
              "    }\n",
              "\n",
              "    .dataframe thead th {\n",
              "        text-align: right;\n",
              "    }\n",
              "</style>\n",
              "<table border=\"1\" class=\"dataframe\">\n",
              "  <thead>\n",
              "    <tr style=\"text-align: right;\">\n",
              "      <th></th>\n",
              "      <th>subscription_type</th>\n",
              "      <th>minute_price</th>\n",
              "      <th>start_ride_price</th>\n",
              "      <th>subscription_fee</th>\n",
              "    </tr>\n",
              "  </thead>\n",
              "  <tbody>\n",
              "    <tr>\n",
              "      <th>0</th>\n",
              "      <td>free</td>\n",
              "      <td>8</td>\n",
              "      <td>50</td>\n",
              "      <td>0</td>\n",
              "    </tr>\n",
              "    <tr>\n",
              "      <th>1</th>\n",
              "      <td>ultra</td>\n",
              "      <td>6</td>\n",
              "      <td>0</td>\n",
              "      <td>199</td>\n",
              "    </tr>\n",
              "  </tbody>\n",
              "</table>\n",
              "</div>"
            ],
            "text/plain": [
              "  subscription_type  minute_price  start_ride_price  subscription_fee\n",
              "0              free             8                50                 0\n",
              "1             ultra             6                 0               199"
            ]
          },
          "execution_count": 4,
          "metadata": {},
          "output_type": "execute_result"
        }
      ],
      "source": [
        "subscriptions_go = pd.read_csv('/datasets/subscriptions_go.csv')\n",
        "subscriptions_go"
      ]
    },
    {
      "cell_type": "markdown",
      "id": "917d7050",
      "metadata": {
        "id": "917d7050"
      },
      "source": [
        "<div class=\"alert alert-block alert-info\">\n",
        "<b>Комментарий:</b>\n",
        "\n",
        "Датафрейм содержит информацию о подписке и стоимости поездки пользователей.\n",
        "\n",
        "Столбцы subscriptions_go.csv:\n",
        "    \n",
        "subscription_type -\tтип подписки\n",
        "    \n",
        "minute_price - стоимость минуты поездки по подписке\n",
        "    \n",
        "start_ride_price - стоимость начала поездки\n",
        "    \n",
        "subscription_fee - стоимость ежемесячного платежа </div>"
      ]
    },
    {
      "cell_type": "markdown",
      "id": "94594c21",
      "metadata": {
        "id": "94594c21"
      },
      "source": [
        "##### Информация о датафреймах"
      ]
    },
    {
      "cell_type": "code",
      "execution_count": null,
      "id": "33ab2966",
      "metadata": {
        "id": "33ab2966",
        "outputId": "60339d08-691e-463e-c583-c717afaae7ef"
      },
      "outputs": [
        {
          "name": "stdout",
          "output_type": "stream",
          "text": [
            "<class 'pandas.core.frame.DataFrame'>\n",
            "RangeIndex: 1565 entries, 0 to 1564\n",
            "Data columns (total 5 columns):\n",
            " #   Column             Non-Null Count  Dtype \n",
            "---  ------             --------------  ----- \n",
            " 0   user_id            1565 non-null   int64 \n",
            " 1   name               1565 non-null   object\n",
            " 2   age                1565 non-null   int64 \n",
            " 3   city               1565 non-null   object\n",
            " 4   subscription_type  1565 non-null   object\n",
            "dtypes: int64(2), object(3)\n",
            "memory usage: 61.3+ KB\n"
          ]
        }
      ],
      "source": [
        "users_go.info()"
      ]
    },
    {
      "cell_type": "code",
      "execution_count": null,
      "id": "695f0b66",
      "metadata": {
        "id": "695f0b66",
        "outputId": "4edbee50-278a-4182-c8c4-476915698830"
      },
      "outputs": [
        {
          "data": {
            "text/plain": [
              "31"
            ]
          },
          "execution_count": 6,
          "metadata": {},
          "output_type": "execute_result"
        }
      ],
      "source": [
        "users_go.duplicated().sum() # количество дубликатов"
      ]
    },
    {
      "cell_type": "code",
      "execution_count": null,
      "id": "cdbe08a3",
      "metadata": {
        "id": "cdbe08a3",
        "outputId": "75482872-36a2-4412-fa0e-d6e41c4294be"
      },
      "outputs": [
        {
          "name": "stdout",
          "output_type": "stream",
          "text": [
            "<class 'pandas.core.frame.DataFrame'>\n",
            "RangeIndex: 18068 entries, 0 to 18067\n",
            "Data columns (total 4 columns):\n",
            " #   Column    Non-Null Count  Dtype  \n",
            "---  ------    --------------  -----  \n",
            " 0   user_id   18068 non-null  int64  \n",
            " 1   distance  18068 non-null  float64\n",
            " 2   duration  18068 non-null  float64\n",
            " 3   date      18068 non-null  object \n",
            "dtypes: float64(2), int64(1), object(1)\n",
            "memory usage: 564.8+ KB\n"
          ]
        }
      ],
      "source": [
        "rides_go.info()"
      ]
    },
    {
      "cell_type": "code",
      "execution_count": null,
      "id": "78615971",
      "metadata": {
        "id": "78615971",
        "outputId": "d3029f65-c938-4ace-8621-dcea5ca40ccf"
      },
      "outputs": [
        {
          "data": {
            "text/plain": [
              "0"
            ]
          },
          "execution_count": 8,
          "metadata": {},
          "output_type": "execute_result"
        }
      ],
      "source": [
        "rides_go.duplicated().sum() # количество дубликатов"
      ]
    },
    {
      "cell_type": "code",
      "execution_count": null,
      "id": "58dd5f5d",
      "metadata": {
        "id": "58dd5f5d",
        "outputId": "bdcde4c1-a3f8-4740-a3f9-635c74877825"
      },
      "outputs": [
        {
          "name": "stdout",
          "output_type": "stream",
          "text": [
            "<class 'pandas.core.frame.DataFrame'>\n",
            "RangeIndex: 2 entries, 0 to 1\n",
            "Data columns (total 4 columns):\n",
            " #   Column             Non-Null Count  Dtype \n",
            "---  ------             --------------  ----- \n",
            " 0   subscription_type  2 non-null      object\n",
            " 1   minute_price       2 non-null      int64 \n",
            " 2   start_ride_price   2 non-null      int64 \n",
            " 3   subscription_fee   2 non-null      int64 \n",
            "dtypes: int64(3), object(1)\n",
            "memory usage: 192.0+ bytes\n"
          ]
        }
      ],
      "source": [
        "subscriptions_go.info()"
      ]
    },
    {
      "cell_type": "markdown",
      "id": "2d79f23d",
      "metadata": {
        "id": "2d79f23d"
      },
      "source": [
        "<div class=\"alert alert-block alert-info\">\n",
        "<b>Вывод:</b>\n",
        "\n",
        "1. Датафрейм users_go - 1565 записи, пропусков нет, явных дубликатов - 31.\n",
        "\n",
        "2. Датафрейм rides_go - 18068 записи, пропусков и явных дубликатов нет, фомат даты некорректный (object).\n",
        "\n",
        "3. Датафрейм subscriptions_go - 2 записи, пропусков и дубликатов нет.\n",
        "\n",
        "4. Наименования столбцов датафреймов в змеином регистре. </div>"
      ]
    },
    {
      "cell_type": "markdown",
      "id": "e95ebca7",
      "metadata": {
        "id": "e95ebca7"
      },
      "source": [
        "#### Шаг 2. Предобработка данных"
      ]
    },
    {
      "cell_type": "markdown",
      "id": "0515d253",
      "metadata": {
        "id": "0515d253"
      },
      "source": [
        "##### Приведение столбца \"date\" rides_go к типу даты pandas"
      ]
    },
    {
      "cell_type": "code",
      "execution_count": null,
      "id": "2f2cc4d4",
      "metadata": {
        "id": "2f2cc4d4",
        "outputId": "74c0db99-afa6-4820-fa81-8ee0becdb63b"
      },
      "outputs": [
        {
          "name": "stdout",
          "output_type": "stream",
          "text": [
            "<class 'pandas.core.frame.DataFrame'>\n",
            "RangeIndex: 18068 entries, 0 to 18067\n",
            "Data columns (total 4 columns):\n",
            " #   Column    Non-Null Count  Dtype         \n",
            "---  ------    --------------  -----         \n",
            " 0   user_id   18068 non-null  int64         \n",
            " 1   distance  18068 non-null  float64       \n",
            " 2   duration  18068 non-null  float64       \n",
            " 3   date      18068 non-null  datetime64[ns]\n",
            "dtypes: datetime64[ns](1), float64(2), int64(1)\n",
            "memory usage: 564.8 KB\n"
          ]
        }
      ],
      "source": [
        "rides_go['date'] = pd.to_datetime(rides_go['date'], format='%Y-%m-%d')\n",
        "rides_go.info()"
      ]
    },
    {
      "cell_type": "markdown",
      "id": "d79a1ce6",
      "metadata": {
        "id": "d79a1ce6"
      },
      "source": [
        "##### Создание нового столбца rides_go с номером месяца на основе \"date\""
      ]
    },
    {
      "cell_type": "code",
      "execution_count": null,
      "id": "51cfbf7e",
      "metadata": {
        "id": "51cfbf7e",
        "outputId": "f21ad30b-386c-4901-c159-011db02788fa"
      },
      "outputs": [
        {
          "name": "stdout",
          "output_type": "stream",
          "text": [
            "<class 'pandas.core.frame.DataFrame'>\n",
            "RangeIndex: 18068 entries, 0 to 18067\n",
            "Data columns (total 5 columns):\n",
            " #   Column    Non-Null Count  Dtype         \n",
            "---  ------    --------------  -----         \n",
            " 0   user_id   18068 non-null  int64         \n",
            " 1   distance  18068 non-null  float64       \n",
            " 2   duration  18068 non-null  float64       \n",
            " 3   date      18068 non-null  datetime64[ns]\n",
            " 4   month     18068 non-null  int64         \n",
            "dtypes: datetime64[ns](1), float64(2), int64(2)\n",
            "memory usage: 705.9 KB\n"
          ]
        }
      ],
      "source": [
        "rides_go['month'] = rides_go['date'].dt.month\n",
        "rides_go.info()"
      ]
    },
    {
      "cell_type": "markdown",
      "id": "7f4d70c7",
      "metadata": {
        "id": "7f4d70c7"
      },
      "source": [
        "##### Удаление дубликатов в датафрейме users_go"
      ]
    },
    {
      "cell_type": "code",
      "execution_count": null,
      "id": "aab75e22",
      "metadata": {
        "id": "aab75e22",
        "outputId": "664d46ab-aec9-4e1f-e69e-d0a4643fcf99"
      },
      "outputs": [
        {
          "data": {
            "text/plain": [
              "0"
            ]
          },
          "execution_count": 12,
          "metadata": {},
          "output_type": "execute_result"
        }
      ],
      "source": [
        "users_go = users_go.drop_duplicates()\n",
        "users_go.duplicated().sum() # количество дубликатов"
      ]
    },
    {
      "cell_type": "code",
      "execution_count": null,
      "id": "77251392",
      "metadata": {
        "id": "77251392",
        "outputId": "c92a3224-be04-4ae7-cd0b-9297752e3d60"
      },
      "outputs": [
        {
          "name": "stdout",
          "output_type": "stream",
          "text": [
            "<class 'pandas.core.frame.DataFrame'>\n",
            "Int64Index: 1534 entries, 0 to 1533\n",
            "Data columns (total 5 columns):\n",
            " #   Column             Non-Null Count  Dtype \n",
            "---  ------             --------------  ----- \n",
            " 0   user_id            1534 non-null   int64 \n",
            " 1   name               1534 non-null   object\n",
            " 2   age                1534 non-null   int64 \n",
            " 3   city               1534 non-null   object\n",
            " 4   subscription_type  1534 non-null   object\n",
            "dtypes: int64(2), object(3)\n",
            "memory usage: 71.9+ KB\n"
          ]
        }
      ],
      "source": [
        "users_go.info()"
      ]
    },
    {
      "cell_type": "markdown",
      "id": "49304ae1",
      "metadata": {
        "id": "49304ae1"
      },
      "source": [
        "<div class=\"alert alert-block alert-info\">\n",
        "<b>Вывод:</b>\n",
        "\n",
        "1. В users_go удалены дубликаты\n",
        "\n",
        "2. В данных rides_go приведен столбец \"date\" к типу datetime64 и создан столбец \"month\" с номером месяца.</div>"
      ]
    },
    {
      "cell_type": "code",
      "execution_count": null,
      "id": "b5b856af",
      "metadata": {
        "id": "b5b856af",
        "outputId": "1825dcfd-882f-4dd0-d036-cc0ad0294969"
      },
      "outputs": [
        {
          "data": {
            "text/plain": [
              "0    4409.919140\n",
              "1    2617.592153\n",
              "2     754.159807\n",
              "Name: distance, dtype: float64"
            ]
          },
          "metadata": {},
          "output_type": "display_data"
        },
        {
          "data": {
            "text/plain": [
              "0    4409.92\n",
              "1    2617.59\n",
              "2     754.16\n",
              "Name: distance, dtype: float64"
            ]
          },
          "execution_count": 14,
          "metadata": {},
          "output_type": "execute_result"
        }
      ],
      "source": [
        "# Комментарий ревьюера\n",
        "temp = rides_go.copy() # Создаем копию, что бы не изменять текущий датасет\n",
        "display(temp['distance'].head(3))\n",
        "# Округление расстояния\n",
        "temp['distance'] = temp['distance'].round(2)\n",
        "temp['distance'].head(3)"
      ]
    },
    {
      "cell_type": "markdown",
      "id": "212593c7",
      "metadata": {
        "id": "212593c7"
      },
      "source": [
        "#### Шаг 3. Исследовательский анализ данных"
      ]
    },
    {
      "cell_type": "markdown",
      "id": "02bdd5c9",
      "metadata": {
        "id": "02bdd5c9"
      },
      "source": [
        "##### Частота встречаемости городов"
      ]
    },
    {
      "cell_type": "code",
      "execution_count": null,
      "id": "e3a4274c",
      "metadata": {
        "id": "e3a4274c",
        "outputId": "c17a87f7-394e-471d-b076-a7089a883375"
      },
      "outputs": [
        {
          "name": "stdout",
          "output_type": "stream",
          "text": [
            "Количество пользователей по городам \n"
          ]
        },
        {
          "data": {
            "text/html": [
              "<div>\n",
              "<style scoped>\n",
              "    .dataframe tbody tr th:only-of-type {\n",
              "        vertical-align: middle;\n",
              "    }\n",
              "\n",
              "    .dataframe tbody tr th {\n",
              "        vertical-align: top;\n",
              "    }\n",
              "\n",
              "    .dataframe thead th {\n",
              "        text-align: right;\n",
              "    }\n",
              "</style>\n",
              "<table border=\"1\" class=\"dataframe\">\n",
              "  <thead>\n",
              "    <tr style=\"text-align: right;\">\n",
              "      <th></th>\n",
              "      <th>user_id</th>\n",
              "    </tr>\n",
              "    <tr>\n",
              "      <th>city</th>\n",
              "      <th></th>\n",
              "    </tr>\n",
              "  </thead>\n",
              "  <tbody>\n",
              "    <tr>\n",
              "      <th>Пятигорск</th>\n",
              "      <td>219</td>\n",
              "    </tr>\n",
              "    <tr>\n",
              "      <th>Екатеринбург</th>\n",
              "      <td>204</td>\n",
              "    </tr>\n",
              "    <tr>\n",
              "      <th>Ростов-на-Дону</th>\n",
              "      <td>198</td>\n",
              "    </tr>\n",
              "    <tr>\n",
              "      <th>Краснодар</th>\n",
              "      <td>193</td>\n",
              "    </tr>\n",
              "    <tr>\n",
              "      <th>Сочи</th>\n",
              "      <td>189</td>\n",
              "    </tr>\n",
              "    <tr>\n",
              "      <th>Омск</th>\n",
              "      <td>183</td>\n",
              "    </tr>\n",
              "    <tr>\n",
              "      <th>Тюмень</th>\n",
              "      <td>180</td>\n",
              "    </tr>\n",
              "    <tr>\n",
              "      <th>Москва</th>\n",
              "      <td>168</td>\n",
              "    </tr>\n",
              "  </tbody>\n",
              "</table>\n",
              "</div>"
            ],
            "text/plain": [
              "                user_id\n",
              "city                   \n",
              "Пятигорск           219\n",
              "Екатеринбург        204\n",
              "Ростов-на-Дону      198\n",
              "Краснодар           193\n",
              "Сочи                189\n",
              "Омск                183\n",
              "Тюмень              180\n",
              "Москва              168"
            ]
          },
          "execution_count": 15,
          "metadata": {},
          "output_type": "execute_result"
        }
      ],
      "source": [
        "print('Количество пользователей по городам ')\n",
        "users_go_city = users_go.pivot_table(index='city', values='user_id', aggfunc='count').sort_values(by='user_id', ascending=False)\n",
        "users_go_city"
      ]
    },
    {
      "cell_type": "code",
      "execution_count": null,
      "id": "bc58b2a5",
      "metadata": {
        "id": "bc58b2a5",
        "outputId": "05334362-86ba-46cd-852a-0e2df2f53126"
      },
      "outputs": [
        {
          "data": {
            "image/png": "[encoded data removed]",
            "text/plain": [
              "<Figure size 720x504 with 1 Axes>"
            ]
          },
          "metadata": {
            "needs_background": "light"
          },
          "output_type": "display_data"
        }
      ],
      "source": [
        "users_go_city.plot(kind='bar', grid=True, figsize=(10, 7))\n",
        "# название гистограммы\n",
        "plt.title(\"Поездки пользователей по городам\")\n",
        "# подписи осей\n",
        "plt.xlabel(\"Город\")\n",
        "plt.ylabel(\"Количество поездок\")\n",
        "# отображение графика\n",
        "plt.show();"
      ]
    },
    {
      "cell_type": "code",
      "execution_count": null,
      "id": "3fd34fdd",
      "metadata": {
        "id": "3fd34fdd",
        "outputId": "127f6e16-d0a0-4b88-99c3-2a6ecdac05d5"
      },
      "outputs": [
        {
          "data": {
            "image/png": "[encoded data removed]",
            "text/plain": [
              "<Figure size 1080x360 with 1 Axes>"
            ]
          },
          "metadata": {
            "needs_background": "light"
          },
          "output_type": "display_data"
        }
      ],
      "source": [
        "# Создаем копию датасета, что бы не работать с исходным\n",
        "tmp = users_go.copy()\n",
        "\n",
        "# Построение горизонтальной диаграммы\n",
        "ax = tmp['city'].value_counts(ascending=True).plot(\n",
        "    kind='barh',\n",
        "    figsize=(15, 5),\n",
        "    title='График частоты встречаемости городов'\n",
        ")\n",
        "\n",
        "# Добавление значений рядом со столбцами\n",
        "for p in ax.patches:\n",
        "    width = p.get_width()\n",
        "    ax.annotate(f'{width}',\n",
        "                (width, p.get_y() + p.get_height() / 2.),\n",
        "                ha='left', va='center',\n",
        "                xytext=(5, 0),\n",
        "                textcoords='offset points')\n",
        "\n",
        "# Добавление меток осей\n",
        "plt.xlabel('Количество пользователей')\n",
        "plt.ylabel('Город')\n",
        "\n",
        "# Отображение графика\n",
        "plt.show()"
      ]
    },
    {
      "cell_type": "markdown",
      "id": "a90ebd8b",
      "metadata": {
        "id": "a90ebd8b"
      },
      "source": [
        "##### Соотношение пользователей с подпиской (ultra) и без (free)"
      ]
    },
    {
      "cell_type": "code",
      "execution_count": null,
      "id": "f11a7dcc",
      "metadata": {
        "id": "f11a7dcc",
        "outputId": "7563fd51-0ea2-4925-d0db-a355fe29fbae"
      },
      "outputs": [
        {
          "data": {
            "image/png": "[encoded data removed]",
            "text/plain": [
              "<Figure size 504x504 with 1 Axes>"
            ]
          },
          "metadata": {},
          "output_type": "display_data"
        }
      ],
      "source": [
        "(\n",
        "    users_go.pivot_table(index='subscription_type', values='user_id', aggfunc='count')\n",
        "    .plot.pie(y='user_id', figsize=(7,7),  label='Количество пользователей, %',\n",
        "    autopct='%1.2f%%', title='Соотношение пользователей с подпиской и без')\n",
        "\n",
        ")\n",
        "plt.show()\n"
      ]
    },
    {
      "cell_type": "markdown",
      "id": "6b8f428c",
      "metadata": {
        "id": "6b8f428c"
      },
      "source": [
        "##### Воозраст пользователей"
      ]
    },
    {
      "cell_type": "code",
      "execution_count": null,
      "id": "bf206398",
      "metadata": {
        "id": "bf206398",
        "outputId": "71a4bccc-d418-4d4b-9440-a6389b76d30d"
      },
      "outputs": [
        {
          "name": "stdout",
          "output_type": "stream",
          "text": [
            "Средний возраст пользователей 25.0\n"
          ]
        },
        {
          "data": {
            "text/plain": [
              "count    1534.000000\n",
              "mean       24.903520\n",
              "std         4.572367\n",
              "min        12.000000\n",
              "25%        22.000000\n",
              "50%        25.000000\n",
              "75%        28.000000\n",
              "max        43.000000\n",
              "Name: age, dtype: float64"
            ]
          },
          "execution_count": 19,
          "metadata": {},
          "output_type": "execute_result"
        }
      ],
      "source": [
        "print('Средний возраст пользователей', users_go['age'].mean().round())\n",
        "users_go['age'].describe()"
      ]
    },
    {
      "cell_type": "code",
      "execution_count": null,
      "id": "54ef9692",
      "metadata": {
        "id": "54ef9692",
        "outputId": "1d05f6e9-9b13-4a91-dea6-f57010343f6f"
      },
      "outputs": [
        {
          "data": {
            "image/png": "[encoded data removed]",
            "text/plain": [
              "<Figure size 720x504 with 1 Axes>"
            ]
          },
          "metadata": {
            "needs_background": "light"
          },
          "output_type": "display_data"
        }
      ],
      "source": [
        "(\n",
        "    users_go.pivot_table(index='age', values='user_id', aggfunc='count').sort_values(by='age', ascending=True)\n",
        "    .plot(kind='bar' , grid=True, figsize=(10, 7))\n",
        ")\n",
        "plt.title('Распределение пользователей по возрасту')\n",
        "plt.xlabel('Возраст')\n",
        "plt.ylabel('Количество')\n",
        "plt.show()"
      ]
    },
    {
      "cell_type": "markdown",
      "id": "8207438d",
      "metadata": {
        "id": "8207438d"
      },
      "source": [
        "##### Расстояние одной поездки пользователя"
      ]
    },
    {
      "cell_type": "code",
      "execution_count": null,
      "id": "552ff251",
      "metadata": {
        "id": "552ff251",
        "outputId": "0011a7d7-9d63-4806-ebf7-8f9343dc2b16"
      },
      "outputs": [
        {
          "data": {
            "text/plain": [
              "count    18068.0\n",
              "mean      3071.0\n",
              "std       1117.0\n",
              "min          1.0\n",
              "25%       2543.0\n",
              "50%       3134.0\n",
              "75%       3776.0\n",
              "max       7211.0\n",
              "Name: distance, dtype: float64"
            ]
          },
          "execution_count": 21,
          "metadata": {},
          "output_type": "execute_result"
        }
      ],
      "source": [
        "rides_go['distance'].describe().round()"
      ]
    },
    {
      "cell_type": "code",
      "execution_count": null,
      "id": "bec1b2bc",
      "metadata": {
        "id": "bec1b2bc",
        "outputId": "7ce98f01-68c4-4c99-a0c0-b91fed4b5724"
      },
      "outputs": [
        {
          "data": {
            "image/png": "[encoded data removed]",
            "text/plain": [
              "<Figure size 720x504 with 1 Axes>"
            ]
          },
          "metadata": {
            "needs_background": "light"
          },
          "output_type": "display_data"
        }
      ],
      "source": [
        "rides_go['distance'].hist(bins=200, figsize=(10, 7))\n",
        "plt.title('Распределение поездок по расстоянию') # название гистограммы\n",
        "plt.xlabel('Расстояние') # подпись оси X\n",
        "plt.ylabel('Количество') # подпись оси Y\n",
        "plt.show()"
      ]
    },
    {
      "cell_type": "markdown",
      "id": "a319bcda",
      "metadata": {
        "id": "a319bcda"
      },
      "source": [
        "##### Продолжительность поездок пользователей в минутах"
      ]
    },
    {
      "cell_type": "code",
      "execution_count": null,
      "id": "fe37beb1",
      "metadata": {
        "id": "fe37beb1",
        "outputId": "fa9a5036-b31e-4a1d-d8d5-5ad0eb11109d"
      },
      "outputs": [
        {
          "data": {
            "text/plain": [
              "count    18068.0\n",
              "mean        18.0\n",
              "std          6.0\n",
              "min          0.0\n",
              "25%         14.0\n",
              "50%         18.0\n",
              "75%         22.0\n",
              "max         41.0\n",
              "Name: duration, dtype: float64"
            ]
          },
          "execution_count": 23,
          "metadata": {},
          "output_type": "execute_result"
        }
      ],
      "source": [
        "rides_go['duration'].describe().round(0)"
      ]
    },
    {
      "cell_type": "code",
      "execution_count": null,
      "id": "7f11bf96",
      "metadata": {
        "id": "7f11bf96",
        "outputId": "9b5fc45c-6994-4a44-bc8d-ef4eb8d87113"
      },
      "outputs": [
        {
          "data": {
            "image/png": "[encoded data removed]",
            "text/plain": [
              "<Figure size 720x504 with 1 Axes>"
            ]
          },
          "metadata": {
            "needs_background": "light"
          },
          "output_type": "display_data"
        }
      ],
      "source": [
        "rides_go['duration'].hist(bins=100, figsize=(10, 7))\n",
        "plt.title('Распределение поездок по времени') # название гистограммы\n",
        "plt.xlabel('время в минутах') # подпись оси X\n",
        "plt.ylabel('Количество поездок') # подпись оси Y\n",
        "plt.show()"
      ]
    },
    {
      "cell_type": "markdown",
      "id": "fbbb12cc",
      "metadata": {
        "id": "fbbb12cc"
      },
      "source": [
        "<div class=\"alert alert-block alert-info\">\n",
        "<b>Вывод:</b>\n",
        "\n",
        "1. Услугами сервиса аренды самокатов пользуются больше всего в Пятигорске, Екатеринбурге и Ростове на Дону, меньше всего - в Тюмени и Москве.\n",
        "\n",
        "2. Пользователей без подписки (free) - 54,4%  с подпиской (ultra) - 45,6%.\n",
        "\n",
        "3. Средний возраст пользователя подчиняется нормальному распределению с медианой примерно в 25 лет. Средний возраст и медиана совпадают. Имеется нарушение правил использования самокатов - некоторые пользователи несовершеннолетние (12-17 лет).\n",
        "\n",
        "4. Медиана расстояния поездок - 3133 метров. Гистограмма имеет нормальное распределение зависимости с основным пиком 3130 м и второстепенным около 750 м.\n",
        "\n",
        "5. Медиана продолжительности поездок - 18 минут. Гистограмма имеет нормальное распределение зависимости. Также есть аномальное время ~100 поездок с временем около 1 минуты.</div>"
      ]
    },
    {
      "cell_type": "markdown",
      "id": "4ef51331",
      "metadata": {
        "id": "4ef51331"
      },
      "source": [
        "#### Шаг 4. Объединение данных"
      ]
    },
    {
      "cell_type": "markdown",
      "id": "98da7b5c",
      "metadata": {
        "id": "98da7b5c"
      },
      "source": [
        "##### Объединение данных о пользователях, поездках и подписках в один датафрейм методом merge()"
      ]
    },
    {
      "cell_type": "code",
      "execution_count": null,
      "id": "882e6844",
      "metadata": {
        "id": "882e6844",
        "outputId": "42d90dd1-9e7a-420a-e107-0d711b9f4e0c"
      },
      "outputs": [
        {
          "name": "stdout",
          "output_type": "stream",
          "text": [
            "Количество явных дубликатов в `data` =  0 \n",
            "\n",
            "<class 'pandas.core.frame.DataFrame'>\n",
            "Int64Index: 18068 entries, 0 to 18067\n",
            "Data columns (total 12 columns):\n",
            " #   Column             Non-Null Count  Dtype         \n",
            "---  ------             --------------  -----         \n",
            " 0   user_id            18068 non-null  int64         \n",
            " 1   distance           18068 non-null  float64       \n",
            " 2   duration           18068 non-null  float64       \n",
            " 3   date               18068 non-null  datetime64[ns]\n",
            " 4   month              18068 non-null  int64         \n",
            " 5   name               18068 non-null  object        \n",
            " 6   age                18068 non-null  int64         \n",
            " 7   city               18068 non-null  object        \n",
            " 8   subscription_type  18068 non-null  object        \n",
            " 9   minute_price       18068 non-null  int64         \n",
            " 10  start_ride_price   18068 non-null  int64         \n",
            " 11  subscription_fee   18068 non-null  int64         \n",
            "dtypes: datetime64[ns](1), float64(2), int64(6), object(3)\n",
            "memory usage: 1.8+ MB\n"
          ]
        }
      ],
      "source": [
        "data = pd.merge(users_go, subscriptions_go, on='subscription_type')\n",
        "data = pd.merge(rides_go, data, on='user_id')\n",
        "print('Количество явных дубликатов в `data` = ', data.duplicated().sum(), '\\n')\n",
        "data.info()"
      ]
    },
    {
      "cell_type": "code",
      "execution_count": null,
      "id": "b962f5bb",
      "metadata": {
        "id": "b962f5bb",
        "outputId": "5d912bc3-dcd4-4247-8f32-8875d4375fd8"
      },
      "outputs": [
        {
          "data": {
            "text/html": [
              "<div>\n",
              "<style scoped>\n",
              "    .dataframe tbody tr th:only-of-type {\n",
              "        vertical-align: middle;\n",
              "    }\n",
              "\n",
              "    .dataframe tbody tr th {\n",
              "        vertical-align: top;\n",
              "    }\n",
              "\n",
              "    .dataframe thead th {\n",
              "        text-align: right;\n",
              "    }\n",
              "</style>\n",
              "<table border=\"1\" class=\"dataframe\">\n",
              "  <thead>\n",
              "    <tr style=\"text-align: right;\">\n",
              "      <th></th>\n",
              "      <th>user_id</th>\n",
              "      <th>distance</th>\n",
              "      <th>duration</th>\n",
              "      <th>date</th>\n",
              "      <th>month</th>\n",
              "      <th>name</th>\n",
              "      <th>age</th>\n",
              "      <th>city</th>\n",
              "      <th>subscription_type</th>\n",
              "      <th>minute_price</th>\n",
              "      <th>start_ride_price</th>\n",
              "      <th>subscription_fee</th>\n",
              "    </tr>\n",
              "  </thead>\n",
              "  <tbody>\n",
              "    <tr>\n",
              "      <th>0</th>\n",
              "      <td>1</td>\n",
              "      <td>4409.919140</td>\n",
              "      <td>25.599769</td>\n",
              "      <td>2021-01-01</td>\n",
              "      <td>1</td>\n",
              "      <td>Кира</td>\n",
              "      <td>22</td>\n",
              "      <td>Тюмень</td>\n",
              "      <td>ultra</td>\n",
              "      <td>6</td>\n",
              "      <td>0</td>\n",
              "      <td>199</td>\n",
              "    </tr>\n",
              "    <tr>\n",
              "      <th>1</th>\n",
              "      <td>1</td>\n",
              "      <td>2617.592153</td>\n",
              "      <td>15.816871</td>\n",
              "      <td>2021-01-18</td>\n",
              "      <td>1</td>\n",
              "      <td>Кира</td>\n",
              "      <td>22</td>\n",
              "      <td>Тюмень</td>\n",
              "      <td>ultra</td>\n",
              "      <td>6</td>\n",
              "      <td>0</td>\n",
              "      <td>199</td>\n",
              "    </tr>\n",
              "    <tr>\n",
              "      <th>2</th>\n",
              "      <td>1</td>\n",
              "      <td>754.159807</td>\n",
              "      <td>6.232113</td>\n",
              "      <td>2021-04-20</td>\n",
              "      <td>4</td>\n",
              "      <td>Кира</td>\n",
              "      <td>22</td>\n",
              "      <td>Тюмень</td>\n",
              "      <td>ultra</td>\n",
              "      <td>6</td>\n",
              "      <td>0</td>\n",
              "      <td>199</td>\n",
              "    </tr>\n",
              "    <tr>\n",
              "      <th>3</th>\n",
              "      <td>1</td>\n",
              "      <td>2694.783254</td>\n",
              "      <td>18.511000</td>\n",
              "      <td>2021-08-11</td>\n",
              "      <td>8</td>\n",
              "      <td>Кира</td>\n",
              "      <td>22</td>\n",
              "      <td>Тюмень</td>\n",
              "      <td>ultra</td>\n",
              "      <td>6</td>\n",
              "      <td>0</td>\n",
              "      <td>199</td>\n",
              "    </tr>\n",
              "    <tr>\n",
              "      <th>4</th>\n",
              "      <td>1</td>\n",
              "      <td>4028.687306</td>\n",
              "      <td>26.265803</td>\n",
              "      <td>2021-08-28</td>\n",
              "      <td>8</td>\n",
              "      <td>Кира</td>\n",
              "      <td>22</td>\n",
              "      <td>Тюмень</td>\n",
              "      <td>ultra</td>\n",
              "      <td>6</td>\n",
              "      <td>0</td>\n",
              "      <td>199</td>\n",
              "    </tr>\n",
              "  </tbody>\n",
              "</table>\n",
              "</div>"
            ],
            "text/plain": [
              "   user_id     distance   duration       date  month  name  age    city  \\\n",
              "0        1  4409.919140  25.599769 2021-01-01      1  Кира   22  Тюмень   \n",
              "1        1  2617.592153  15.816871 2021-01-18      1  Кира   22  Тюмень   \n",
              "2        1   754.159807   6.232113 2021-04-20      4  Кира   22  Тюмень   \n",
              "3        1  2694.783254  18.511000 2021-08-11      8  Кира   22  Тюмень   \n",
              "4        1  4028.687306  26.265803 2021-08-28      8  Кира   22  Тюмень   \n",
              "\n",
              "  subscription_type  minute_price  start_ride_price  subscription_fee  \n",
              "0             ultra             6                 0               199  \n",
              "1             ultra             6                 0               199  \n",
              "2             ultra             6                 0               199  \n",
              "3             ultra             6                 0               199  \n",
              "4             ultra             6                 0               199  "
            ]
          },
          "execution_count": 26,
          "metadata": {},
          "output_type": "execute_result"
        }
      ],
      "source": [
        "data.head()"
      ]
    },
    {
      "cell_type": "markdown",
      "id": "aa000d2f",
      "metadata": {
        "id": "aa000d2f"
      },
      "source": [
        "##### Создание датафреймов из data c данными о пользователях без подписки и с подпиской."
      ]
    },
    {
      "cell_type": "code",
      "execution_count": null,
      "id": "346e1f4d",
      "metadata": {
        "id": "346e1f4d",
        "outputId": "5218a851-1870-41e9-b547-510b1ea2a1e3"
      },
      "outputs": [
        {
          "data": {
            "text/html": [
              "<div>\n",
              "<style scoped>\n",
              "    .dataframe tbody tr th:only-of-type {\n",
              "        vertical-align: middle;\n",
              "    }\n",
              "\n",
              "    .dataframe tbody tr th {\n",
              "        vertical-align: top;\n",
              "    }\n",
              "\n",
              "    .dataframe thead th {\n",
              "        text-align: right;\n",
              "    }\n",
              "</style>\n",
              "<table border=\"1\" class=\"dataframe\">\n",
              "  <thead>\n",
              "    <tr style=\"text-align: right;\">\n",
              "      <th></th>\n",
              "      <th>user_id</th>\n",
              "      <th>distance</th>\n",
              "      <th>duration</th>\n",
              "      <th>date</th>\n",
              "      <th>month</th>\n",
              "      <th>name</th>\n",
              "      <th>age</th>\n",
              "      <th>city</th>\n",
              "      <th>subscription_type</th>\n",
              "      <th>minute_price</th>\n",
              "      <th>start_ride_price</th>\n",
              "      <th>subscription_fee</th>\n",
              "    </tr>\n",
              "  </thead>\n",
              "  <tbody>\n",
              "    <tr>\n",
              "      <th>6500</th>\n",
              "      <td>700</td>\n",
              "      <td>2515.690719</td>\n",
              "      <td>14.944286</td>\n",
              "      <td>2021-01-02</td>\n",
              "      <td>1</td>\n",
              "      <td>Айдар</td>\n",
              "      <td>22</td>\n",
              "      <td>Омск</td>\n",
              "      <td>free</td>\n",
              "      <td>8</td>\n",
              "      <td>50</td>\n",
              "      <td>0</td>\n",
              "    </tr>\n",
              "    <tr>\n",
              "      <th>6501</th>\n",
              "      <td>700</td>\n",
              "      <td>846.932642</td>\n",
              "      <td>16.234663</td>\n",
              "      <td>2021-02-01</td>\n",
              "      <td>2</td>\n",
              "      <td>Айдар</td>\n",
              "      <td>22</td>\n",
              "      <td>Омск</td>\n",
              "      <td>free</td>\n",
              "      <td>8</td>\n",
              "      <td>50</td>\n",
              "      <td>0</td>\n",
              "    </tr>\n",
              "    <tr>\n",
              "      <th>6502</th>\n",
              "      <td>700</td>\n",
              "      <td>4004.434142</td>\n",
              "      <td>20.016628</td>\n",
              "      <td>2021-02-04</td>\n",
              "      <td>2</td>\n",
              "      <td>Айдар</td>\n",
              "      <td>22</td>\n",
              "      <td>Омск</td>\n",
              "      <td>free</td>\n",
              "      <td>8</td>\n",
              "      <td>50</td>\n",
              "      <td>0</td>\n",
              "    </tr>\n",
              "    <tr>\n",
              "      <th>6503</th>\n",
              "      <td>700</td>\n",
              "      <td>1205.911290</td>\n",
              "      <td>9.782872</td>\n",
              "      <td>2021-02-10</td>\n",
              "      <td>2</td>\n",
              "      <td>Айдар</td>\n",
              "      <td>22</td>\n",
              "      <td>Омск</td>\n",
              "      <td>free</td>\n",
              "      <td>8</td>\n",
              "      <td>50</td>\n",
              "      <td>0</td>\n",
              "    </tr>\n",
              "    <tr>\n",
              "      <th>6504</th>\n",
              "      <td>700</td>\n",
              "      <td>3047.379435</td>\n",
              "      <td>17.427673</td>\n",
              "      <td>2021-02-14</td>\n",
              "      <td>2</td>\n",
              "      <td>Айдар</td>\n",
              "      <td>22</td>\n",
              "      <td>Омск</td>\n",
              "      <td>free</td>\n",
              "      <td>8</td>\n",
              "      <td>50</td>\n",
              "      <td>0</td>\n",
              "    </tr>\n",
              "  </tbody>\n",
              "</table>\n",
              "</div>"
            ],
            "text/plain": [
              "      user_id     distance   duration       date  month   name  age  city  \\\n",
              "6500      700  2515.690719  14.944286 2021-01-02      1  Айдар   22  Омск   \n",
              "6501      700   846.932642  16.234663 2021-02-01      2  Айдар   22  Омск   \n",
              "6502      700  4004.434142  20.016628 2021-02-04      2  Айдар   22  Омск   \n",
              "6503      700  1205.911290   9.782872 2021-02-10      2  Айдар   22  Омск   \n",
              "6504      700  3047.379435  17.427673 2021-02-14      2  Айдар   22  Омск   \n",
              "\n",
              "     subscription_type  minute_price  start_ride_price  subscription_fee  \n",
              "6500              free             8                50                 0  \n",
              "6501              free             8                50                 0  \n",
              "6502              free             8                50                 0  \n",
              "6503              free             8                50                 0  \n",
              "6504              free             8                50                 0  "
            ]
          },
          "execution_count": 27,
          "metadata": {},
          "output_type": "execute_result"
        }
      ],
      "source": [
        "data_free = data[data['subscription_type'] == 'free']\n",
        "data_free.head()"
      ]
    },
    {
      "cell_type": "code",
      "execution_count": null,
      "id": "fd247bc0",
      "metadata": {
        "id": "fd247bc0",
        "outputId": "2577f43e-f76b-4917-cf95-9f08f2072db0"
      },
      "outputs": [
        {
          "data": {
            "text/html": [
              "<div>\n",
              "<style scoped>\n",
              "    .dataframe tbody tr th:only-of-type {\n",
              "        vertical-align: middle;\n",
              "    }\n",
              "\n",
              "    .dataframe tbody tr th {\n",
              "        vertical-align: top;\n",
              "    }\n",
              "\n",
              "    .dataframe thead th {\n",
              "        text-align: right;\n",
              "    }\n",
              "</style>\n",
              "<table border=\"1\" class=\"dataframe\">\n",
              "  <thead>\n",
              "    <tr style=\"text-align: right;\">\n",
              "      <th></th>\n",
              "      <th>user_id</th>\n",
              "      <th>distance</th>\n",
              "      <th>duration</th>\n",
              "      <th>date</th>\n",
              "      <th>month</th>\n",
              "      <th>name</th>\n",
              "      <th>age</th>\n",
              "      <th>city</th>\n",
              "      <th>subscription_type</th>\n",
              "      <th>minute_price</th>\n",
              "      <th>start_ride_price</th>\n",
              "      <th>subscription_fee</th>\n",
              "    </tr>\n",
              "  </thead>\n",
              "  <tbody>\n",
              "    <tr>\n",
              "      <th>0</th>\n",
              "      <td>1</td>\n",
              "      <td>4409.919140</td>\n",
              "      <td>25.599769</td>\n",
              "      <td>2021-01-01</td>\n",
              "      <td>1</td>\n",
              "      <td>Кира</td>\n",
              "      <td>22</td>\n",
              "      <td>Тюмень</td>\n",
              "      <td>ultra</td>\n",
              "      <td>6</td>\n",
              "      <td>0</td>\n",
              "      <td>199</td>\n",
              "    </tr>\n",
              "    <tr>\n",
              "      <th>1</th>\n",
              "      <td>1</td>\n",
              "      <td>2617.592153</td>\n",
              "      <td>15.816871</td>\n",
              "      <td>2021-01-18</td>\n",
              "      <td>1</td>\n",
              "      <td>Кира</td>\n",
              "      <td>22</td>\n",
              "      <td>Тюмень</td>\n",
              "      <td>ultra</td>\n",
              "      <td>6</td>\n",
              "      <td>0</td>\n",
              "      <td>199</td>\n",
              "    </tr>\n",
              "    <tr>\n",
              "      <th>2</th>\n",
              "      <td>1</td>\n",
              "      <td>754.159807</td>\n",
              "      <td>6.232113</td>\n",
              "      <td>2021-04-20</td>\n",
              "      <td>4</td>\n",
              "      <td>Кира</td>\n",
              "      <td>22</td>\n",
              "      <td>Тюмень</td>\n",
              "      <td>ultra</td>\n",
              "      <td>6</td>\n",
              "      <td>0</td>\n",
              "      <td>199</td>\n",
              "    </tr>\n",
              "    <tr>\n",
              "      <th>3</th>\n",
              "      <td>1</td>\n",
              "      <td>2694.783254</td>\n",
              "      <td>18.511000</td>\n",
              "      <td>2021-08-11</td>\n",
              "      <td>8</td>\n",
              "      <td>Кира</td>\n",
              "      <td>22</td>\n",
              "      <td>Тюмень</td>\n",
              "      <td>ultra</td>\n",
              "      <td>6</td>\n",
              "      <td>0</td>\n",
              "      <td>199</td>\n",
              "    </tr>\n",
              "    <tr>\n",
              "      <th>4</th>\n",
              "      <td>1</td>\n",
              "      <td>4028.687306</td>\n",
              "      <td>26.265803</td>\n",
              "      <td>2021-08-28</td>\n",
              "      <td>8</td>\n",
              "      <td>Кира</td>\n",
              "      <td>22</td>\n",
              "      <td>Тюмень</td>\n",
              "      <td>ultra</td>\n",
              "      <td>6</td>\n",
              "      <td>0</td>\n",
              "      <td>199</td>\n",
              "    </tr>\n",
              "  </tbody>\n",
              "</table>\n",
              "</div>"
            ],
            "text/plain": [
              "   user_id     distance   duration       date  month  name  age    city  \\\n",
              "0        1  4409.919140  25.599769 2021-01-01      1  Кира   22  Тюмень   \n",
              "1        1  2617.592153  15.816871 2021-01-18      1  Кира   22  Тюмень   \n",
              "2        1   754.159807   6.232113 2021-04-20      4  Кира   22  Тюмень   \n",
              "3        1  2694.783254  18.511000 2021-08-11      8  Кира   22  Тюмень   \n",
              "4        1  4028.687306  26.265803 2021-08-28      8  Кира   22  Тюмень   \n",
              "\n",
              "  subscription_type  minute_price  start_ride_price  subscription_fee  \n",
              "0             ultra             6                 0               199  \n",
              "1             ultra             6                 0               199  \n",
              "2             ultra             6                 0               199  \n",
              "3             ultra             6                 0               199  \n",
              "4             ultra             6                 0               199  "
            ]
          },
          "execution_count": 28,
          "metadata": {},
          "output_type": "execute_result"
        }
      ],
      "source": [
        "data_ultra = data[data['subscription_type'] == 'ultra']\n",
        "data_ultra.head()"
      ]
    },
    {
      "cell_type": "markdown",
      "id": "26ef2e2f",
      "metadata": {
        "id": "26ef2e2f"
      },
      "source": [
        "##### Визуализация информации о расстоянии и времени поездок для пользователей обеих категорий ultra и free"
      ]
    },
    {
      "cell_type": "code",
      "execution_count": null,
      "id": "7ff13480",
      "metadata": {
        "id": "7ff13480",
        "outputId": "bfbe87b3-c823-4fe0-f966-f02796ff774d"
      },
      "outputs": [
        {
          "data": {
            "text/plain": [
              "count    11568.0\n",
              "mean      3045.0\n",
              "std       1246.0\n",
              "min          1.0\n",
              "25%       2367.0\n",
              "50%       3115.0\n",
              "75%       3906.0\n",
              "max       7211.0\n",
              "Name: distance, dtype: float64"
            ]
          },
          "metadata": {},
          "output_type": "display_data"
        },
        {
          "data": {
            "text/plain": [
              "count    6500.0\n",
              "mean     3115.0\n",
              "std       837.0\n",
              "min       244.0\n",
              "25%      2785.0\n",
              "50%      3149.0\n",
              "75%      3561.0\n",
              "max      5700.0\n",
              "Name: distance, dtype: float64"
            ]
          },
          "execution_count": 29,
          "metadata": {},
          "output_type": "execute_result"
        }
      ],
      "source": [
        "display(data_free['distance'].describe().round())\n",
        "data_ultra['distance'].describe().round()"
      ]
    },
    {
      "cell_type": "code",
      "execution_count": null,
      "id": "3425c851",
      "metadata": {
        "id": "3425c851",
        "outputId": "673f4c56-598d-47d1-91e4-3adeda6a2db7"
      },
      "outputs": [
        {
          "data": {
            "image/png": "[encoded data removed]",
            "text/plain": [
              "<Figure size 720x504 with 1 Axes>"
            ]
          },
          "metadata": {
            "needs_background": "light"
          },
          "output_type": "display_data"
        }
      ],
      "source": [
        "# Построение гистограммы\n",
        "plt.figure(figsize=(10, 7))\n",
        "plt.hist(data_free['distance'], color='blue', bins=100, alpha=0.5, label='data_free')\n",
        "plt.hist(data_ultra['distance'], color='red', bins=100, alpha=0.5, label='data_ultra')\n",
        "\n",
        "# Настройка осей\n",
        "plt.xlabel('Расстояние')\n",
        "plt.ylabel('Количество')\n",
        "plt.title('Гистограмма расстояний')\n",
        "plt.legend()\n",
        "\n",
        "# Отображение графика\n",
        "plt.show()"
      ]
    },
    {
      "cell_type": "code",
      "execution_count": null,
      "id": "b80d8cee",
      "metadata": {
        "id": "b80d8cee",
        "outputId": "1de66408-454b-45dd-eb8c-f65f9fe2f50e"
      },
      "outputs": [
        {
          "data": {
            "text/plain": [
              "count    11568.0\n",
              "mean        17.0\n",
              "std          6.0\n",
              "min          0.0\n",
              "25%         13.0\n",
              "50%         17.0\n",
              "75%         22.0\n",
              "max         35.0\n",
              "Name: duration, dtype: float64"
            ]
          },
          "metadata": {},
          "output_type": "display_data"
        },
        {
          "data": {
            "text/plain": [
              "count    6500.0\n",
              "mean       19.0\n",
              "std         6.0\n",
              "min         4.0\n",
              "25%        15.0\n",
              "50%        18.0\n",
              "75%        22.0\n",
              "max        41.0\n",
              "Name: duration, dtype: float64"
            ]
          },
          "execution_count": 31,
          "metadata": {},
          "output_type": "execute_result"
        }
      ],
      "source": [
        "display(data_free['duration'].describe().round())\n",
        "data_ultra['duration'].describe().round()"
      ]
    },
    {
      "cell_type": "code",
      "execution_count": null,
      "id": "b56c3649",
      "metadata": {
        "id": "b56c3649",
        "outputId": "d904103f-5ba7-4025-a304-fcd25202f0fd"
      },
      "outputs": [
        {
          "data": {
            "image/png": "[encoded data removed]",
            "text/plain": [
              "<Figure size 720x504 with 1 Axes>"
            ]
          },
          "metadata": {
            "needs_background": "light"
          },
          "output_type": "display_data"
        }
      ],
      "source": [
        "# Построение гистограммы\n",
        "plt.figure(figsize=(10, 7))\n",
        "plt.hist(data_free['duration'], color='blue', bins=100, alpha=0.5, label='data_free')\n",
        "plt.hist(data_ultra['duration'], color='red', bins=100, alpha=0.5, label='data_ultra')\n",
        "\n",
        "# Настройка осей\n",
        "plt.xlabel('Время поездки')\n",
        "plt.ylabel('Количество')\n",
        "plt.title('Гистограмма времени поездки')\n",
        "plt.legend()\n",
        "\n",
        "# Отображение графика\n",
        "plt.show()"
      ]
    },
    {
      "cell_type": "markdown",
      "id": "1350680c",
      "metadata": {
        "id": "1350680c"
      },
      "source": [
        "<div class=\"alert alert-block alert-info\">\n",
        "<b>Вывод:</b>\n",
        "\n",
        "1. Созданный датафрейм data объединяет таблицы rides_go, users_go, subscriptions_go. Имеет 18068 строк во всех столбцах, что соответствует исходной таблице rides_go. Нет пропусков и явных дубликатов.\n",
        "\n",
        "2. Созданы два датафрейма данных пользователей без подписки (free, 11568 записей) и с подпиской (ultra, 6500 записей).\n",
        "\n",
        "3. Визуализация датафреймов зависимости расстяния поездок пользователей показывает, что подписка влияет на медиану (расстояние без подписки 3115, а с подпиской - 3149 метров). У пользователей с подпиской меньшее стандартное отклонение: free - 1246 ultra - 837. Также наблюдается смешение дополнительного пика с 600 м (free) до 1000 м (ultra).\n",
        "\n",
        "4. Визуализация датафреймов зависимости времени поездок пользователям показывает, что подписка влияет на медиану (без подписки - 18 мин с подпиской - 19 мин). Также в подписке ultra отсуствует выброс по времени поедки продолжительностью около 1 мин.\n",
        "\n",
        "Итог: Подписка влияет как на расстояние, так и на время поездок пользователей.</div>"
      ]
    },
    {
      "cell_type": "markdown",
      "id": "402d620f",
      "metadata": {
        "id": "402d620f"
      },
      "source": [
        "#### Шаг 5. Подсчёт выручки"
      ]
    },
    {
      "cell_type": "markdown",
      "id": "0a402acf",
      "metadata": {
        "id": "0a402acf"
      },
      "source": [
        "##### Создание датафрейма с агрегированными данными о поездках на основе датафрейма с объединёнными данными из шага 4: суммарное расстояние, количество поездок и суммарное время для каждого пользователя за каждый месяц. receipts"
      ]
    },
    {
      "cell_type": "code",
      "execution_count": null,
      "id": "53049e0a",
      "metadata": {
        "id": "53049e0a",
        "outputId": "108b0525-370c-4902-d31f-b39880e60c31"
      },
      "outputs": [
        {
          "data": {
            "text/html": [
              "<div>\n",
              "<style scoped>\n",
              "    .dataframe tbody tr th:only-of-type {\n",
              "        vertical-align: middle;\n",
              "    }\n",
              "\n",
              "    .dataframe tbody tr th {\n",
              "        vertical-align: top;\n",
              "    }\n",
              "\n",
              "    .dataframe thead th {\n",
              "        text-align: right;\n",
              "    }\n",
              "</style>\n",
              "<table border=\"1\" class=\"dataframe\">\n",
              "  <thead>\n",
              "    <tr style=\"text-align: right;\">\n",
              "      <th></th>\n",
              "      <th></th>\n",
              "      <th>count</th>\n",
              "      <th>distance</th>\n",
              "      <th>duration</th>\n",
              "      <th>minute_price</th>\n",
              "      <th>start_ride_price</th>\n",
              "      <th>subscription_fee</th>\n",
              "    </tr>\n",
              "    <tr>\n",
              "      <th>user_id</th>\n",
              "      <th>month</th>\n",
              "      <th></th>\n",
              "      <th></th>\n",
              "      <th></th>\n",
              "      <th></th>\n",
              "      <th></th>\n",
              "      <th></th>\n",
              "    </tr>\n",
              "  </thead>\n",
              "  <tbody>\n",
              "    <tr>\n",
              "      <th rowspan=\"6\" valign=\"top\">1</th>\n",
              "      <th>1</th>\n",
              "      <td>2</td>\n",
              "      <td>7027.511294</td>\n",
              "      <td>42.0</td>\n",
              "      <td>6</td>\n",
              "      <td>0</td>\n",
              "      <td>199</td>\n",
              "    </tr>\n",
              "    <tr>\n",
              "      <th>4</th>\n",
              "      <td>1</td>\n",
              "      <td>754.159807</td>\n",
              "      <td>7.0</td>\n",
              "      <td>6</td>\n",
              "      <td>0</td>\n",
              "      <td>199</td>\n",
              "    </tr>\n",
              "    <tr>\n",
              "      <th>8</th>\n",
              "      <td>2</td>\n",
              "      <td>6723.470560</td>\n",
              "      <td>46.0</td>\n",
              "      <td>6</td>\n",
              "      <td>0</td>\n",
              "      <td>199</td>\n",
              "    </tr>\n",
              "    <tr>\n",
              "      <th>10</th>\n",
              "      <td>2</td>\n",
              "      <td>5809.911100</td>\n",
              "      <td>32.0</td>\n",
              "      <td>6</td>\n",
              "      <td>0</td>\n",
              "      <td>199</td>\n",
              "    </tr>\n",
              "    <tr>\n",
              "      <th>11</th>\n",
              "      <td>3</td>\n",
              "      <td>7003.499363</td>\n",
              "      <td>56.0</td>\n",
              "      <td>6</td>\n",
              "      <td>0</td>\n",
              "      <td>199</td>\n",
              "    </tr>\n",
              "    <tr>\n",
              "      <th>12</th>\n",
              "      <td>2</td>\n",
              "      <td>6751.629942</td>\n",
              "      <td>28.0</td>\n",
              "      <td>6</td>\n",
              "      <td>0</td>\n",
              "      <td>199</td>\n",
              "    </tr>\n",
              "    <tr>\n",
              "      <th rowspan=\"4\" valign=\"top\">2</th>\n",
              "      <th>3</th>\n",
              "      <td>3</td>\n",
              "      <td>10187.723006</td>\n",
              "      <td>63.0</td>\n",
              "      <td>6</td>\n",
              "      <td>0</td>\n",
              "      <td>199</td>\n",
              "    </tr>\n",
              "    <tr>\n",
              "      <th>4</th>\n",
              "      <td>2</td>\n",
              "      <td>6164.381824</td>\n",
              "      <td>40.0</td>\n",
              "      <td>6</td>\n",
              "      <td>0</td>\n",
              "      <td>199</td>\n",
              "    </tr>\n",
              "    <tr>\n",
              "      <th>6</th>\n",
              "      <td>1</td>\n",
              "      <td>3255.338202</td>\n",
              "      <td>14.0</td>\n",
              "      <td>6</td>\n",
              "      <td>0</td>\n",
              "      <td>199</td>\n",
              "    </tr>\n",
              "    <tr>\n",
              "      <th>7</th>\n",
              "      <td>2</td>\n",
              "      <td>6780.722964</td>\n",
              "      <td>48.0</td>\n",
              "      <td>6</td>\n",
              "      <td>0</td>\n",
              "      <td>199</td>\n",
              "    </tr>\n",
              "  </tbody>\n",
              "</table>\n",
              "</div>"
            ],
            "text/plain": [
              "               count      distance  duration  minute_price  start_ride_price  \\\n",
              "user_id month                                                                  \n",
              "1       1          2   7027.511294      42.0             6                 0   \n",
              "        4          1    754.159807       7.0             6                 0   \n",
              "        8          2   6723.470560      46.0             6                 0   \n",
              "        10         2   5809.911100      32.0             6                 0   \n",
              "        11         3   7003.499363      56.0             6                 0   \n",
              "        12         2   6751.629942      28.0             6                 0   \n",
              "2       3          3  10187.723006      63.0             6                 0   \n",
              "        4          2   6164.381824      40.0             6                 0   \n",
              "        6          1   3255.338202      14.0             6                 0   \n",
              "        7          2   6780.722964      48.0             6                 0   \n",
              "\n",
              "               subscription_fee  \n",
              "user_id month                    \n",
              "1       1                   199  \n",
              "        4                   199  \n",
              "        8                   199  \n",
              "        10                  199  \n",
              "        11                  199  \n",
              "        12                  199  \n",
              "2       3                   199  \n",
              "        4                   199  \n",
              "        6                   199  \n",
              "        7                   199  "
            ]
          },
          "execution_count": 33,
          "metadata": {},
          "output_type": "execute_result"
        }
      ],
      "source": [
        "data['duration'] = np.ceil(data['duration']) # округление времени поездки до полных минут\n",
        "\n",
        "users_months_merge = data.pivot_table(\n",
        "    index=('user_id', 'month'),\n",
        "    values=(\n",
        "        'distance',\n",
        "        'duration',\n",
        "        'minute_price',\n",
        "        'start_ride_price',\n",
        "        'subscription_fee'\n",
        "    ),\n",
        "    aggfunc=({'distance':{'count', 'sum'},\n",
        "             'duration':'sum',\n",
        "             'minute_price': 'mean',\n",
        "             'start_ride_price':'mean',\n",
        "             'subscription_fee':'mean',})\n",
        ")\n",
        "\n",
        "users_months_merge.columns = [\n",
        "    'count', 'distance',\n",
        "    'duration',\n",
        "    'minute_price',\n",
        "    'start_ride_price',\n",
        "    'subscription_fee'\n",
        "]\n",
        "\n",
        "users_months_merge.head(10)"
      ]
    },
    {
      "cell_type": "code",
      "execution_count": null,
      "id": "adf30055",
      "metadata": {
        "id": "adf30055",
        "outputId": "45ade49b-6a9e-47f7-a3da-10b64b7f51a0"
      },
      "outputs": [
        {
          "data": {
            "text/plain": [
              "count               0\n",
              "distance            0\n",
              "duration            0\n",
              "minute_price        0\n",
              "start_ride_price    0\n",
              "subscription_fee    0\n",
              "dtype: int64"
            ]
          },
          "execution_count": 34,
          "metadata": {},
          "output_type": "execute_result"
        }
      ],
      "source": [
        "users_months_merge.isnull().sum() # проверка пропусков значений"
      ]
    },
    {
      "cell_type": "markdown",
      "id": "94b09d86",
      "metadata": {
        "id": "94b09d86"
      },
      "source": [
        "##### В датафрейм добавим столбец с помесячной выручкой, которую принёс каждый пользователь"
      ]
    },
    {
      "cell_type": "code",
      "execution_count": null,
      "id": "880f0240",
      "metadata": {
        "id": "880f0240",
        "outputId": "ac18d65f-d45d-4bda-afdd-c2be835d86cf"
      },
      "outputs": [
        {
          "data": {
            "text/plain": [
              "'Таблица с помесячной выручкой по пользователям'"
            ]
          },
          "metadata": {},
          "output_type": "display_data"
        },
        {
          "data": {
            "text/plain": [
              "user_id  month\n",
              "1        1        451.0\n",
              "         4        241.0\n",
              "         8        475.0\n",
              "         10       391.0\n",
              "         11       535.0\n",
              "         12       367.0\n",
              "2        3        577.0\n",
              "         4        439.0\n",
              "         6        283.0\n",
              "         7        487.0\n",
              "Name: receipts, dtype: float64"
            ]
          },
          "metadata": {},
          "output_type": "display_data"
        },
        {
          "name": "stdout",
          "output_type": "stream",
          "text": [
            "Общая выручка компании GoFast: 3878641.0 рублей\n"
          ]
        }
      ],
      "source": [
        "users_months_merge['receipts'] = (\n",
        "users_months_merge['start_ride_price']*users_months_merge['count']+\n",
        "users_months_merge['minute_price']*users_months_merge['duration']+\n",
        "users_months_merge['subscription_fee'])\n",
        "display('Таблица с помесячной выручкой по пользователям')\n",
        "display(users_months_merge['receipts'].head(10))\n",
        "print('Общая выручка компании GoFast:', users_months_merge['receipts'].sum(), 'рублей')\n"
      ]
    },
    {
      "cell_type": "markdown",
      "id": "abcbed9c",
      "metadata": {
        "id": "abcbed9c"
      },
      "source": [
        "<div class=\"alert alert-block alert-info\">\n",
        "<b>Вывод:</b>\n",
        "\n",
        "Выручка компании GoFast от аренды самокатов за период - 3 878 641.00 рублей</div>"
      ]
    },
    {
      "cell_type": "code",
      "execution_count": null,
      "id": "45a5bc6d",
      "metadata": {
        "id": "45a5bc6d",
        "outputId": "b88e8e38-3eec-4d1d-aea5-bb5d52925f64"
      },
      "outputs": [
        {
          "name": "stdout",
          "output_type": "stream",
          "text": [
            "Правильное значение суммы выручки 3878641, сумма выручки расчитанная в таблице: 3878641.0\n"
          ]
        }
      ],
      "source": [
        "# Комментарий ревьюера\n",
        "# Контроль суммы выручки\n",
        "tmp, col_rev = users_months_merge.copy(), 'receipts'\n",
        "print(\"Правильное значение суммы выручки 3878641, сумма выручки расчитанная в таблице:\", tmp[col_rev].sum())"
      ]
    },
    {
      "cell_type": "markdown",
      "id": "41545ac0",
      "metadata": {
        "id": "41545ac0"
      },
      "source": [
        "#### Шаг 6. Проверка гипотез"
      ]
    },
    {
      "cell_type": "markdown",
      "id": "9e6ab970",
      "metadata": {
        "id": "9e6ab970"
      },
      "source": [
        "##### Проверка утверждений: тратят ли пользователи с подпиской больше времени на поездки и выгоднее ли пользователи с подпиской для компании. Проверка гипотез: Н0: Средняя продолжительность поездок с подпиской и без равны. Н1: Средняя продолжительность поездок с подпиской больше,чем без подписок."
      ]
    },
    {
      "cell_type": "code",
      "execution_count": null,
      "id": "23ea867b",
      "metadata": {
        "id": "23ea867b",
        "outputId": "2b55c3dd-a25d-4e3d-ad98-7830c5cd2b84"
      },
      "outputs": [
        {
          "name": "stdout",
          "output_type": "stream",
          "text": [
            "P-value = 1.2804098316645618e-34\n",
            "Отвергаем гипотезу H0\n"
          ]
        }
      ],
      "source": [
        "results = st.ttest_ind(\n",
        "    data_ultra['duration'], data_free['duration'], equal_var=True,\n",
        "    alternative='greater')\n",
        "print('P-value =', results.pvalue)\n",
        "\n",
        "alpha = 0.05\n",
        "if results.pvalue < alpha:\n",
        "    print('Отвергаем гипотезу H0')\n",
        "else:\n",
        "    print('Гипотезу H0 нельзя отвергнуть')"
      ]
    },
    {
      "cell_type": "markdown",
      "id": "3a5ca48e",
      "metadata": {
        "id": "3a5ca48e"
      },
      "source": [
        "<div class=\"alert alert-block alert-info\">\n",
        "<b>Вывод:</b>\n",
        "\n",
        "Можно утверждать, что средняя продолжительность поездки с подпиской больше продолжительности поездок без подписки при уровне значимости в 5 %.</div>"
      ]
    },
    {
      "cell_type": "markdown",
      "id": "e0a54238",
      "metadata": {
        "id": "e0a54238"
      },
      "source": [
        "##### Оптимальное расстояние одной поездки для износа самоката - 3130 м. Проверка утверждения, что среднее расстояние, которое проезжают пользователи с подпиской за одну поездку, не превышает это значение. Проверка гипотез: Н0: Среднее расстояние поездок с подпиской равно 3130 метров. Н1: Среднее расстояние поездок с подпиской больше 3130 м."
      ]
    },
    {
      "cell_type": "code",
      "execution_count": null,
      "id": "59b11051",
      "metadata": {
        "id": "59b11051",
        "outputId": "2f1e3c6f-2d32-40f7-c3e8-5bbb35a4a5f2"
      },
      "outputs": [
        {
          "name": "stdout",
          "output_type": "stream",
          "text": [
            "P-value = 0.9195368847849785\n",
            "Гипотезу H0 нельзя отвергнуть\n"
          ]
        }
      ],
      "source": [
        "distance = 3130\n",
        "results = st.ttest_1samp(\n",
        "    data_ultra['distance'],\n",
        "    distance,\n",
        "    alternative='greater')\n",
        "alpha = 0.05\n",
        "print('P-value =', results.pvalue)\n",
        "if results.pvalue < alpha:\n",
        "    print('Отвергаем гипотезу H0')\n",
        "else:\n",
        "    print('Гипотезу H0 нельзя отвергнуть')"
      ]
    },
    {
      "cell_type": "markdown",
      "id": "c916bf20",
      "metadata": {
        "id": "c916bf20"
      },
      "source": [
        "<div class=\"alert alert-block alert-info\">\n",
        "<b>Вывод:</b>\n",
        "\n",
        "Можно утверждать, что среднее расстояние поездки пользователей с подпиской, не превышает оптимальное для износа самоката расстоянием 3130 метров, при уровне значимости в 5 %.</div>"
      ]
    },
    {
      "cell_type": "markdown",
      "id": "1d6ef22f",
      "metadata": {
        "id": "1d6ef22f"
      },
      "source": [
        "##### Проверка гипотезы, что помесячная выручка от пользователей с подпиской по месяцам выше, чем без. Гипотезы: Н0: Помесячная средняя выручка от пользователей с подпиской равна помесячной средней выручке без подписки. Н1: Помесячная средняя выручка от пользователей с подпиской больше, чем без подписки."
      ]
    },
    {
      "cell_type": "code",
      "execution_count": null,
      "id": "9cd16971",
      "metadata": {
        "id": "9cd16971",
        "outputId": "4710db0d-a5b1-4738-e3b8-bdd0234f4f04"
      },
      "outputs": [
        {
          "name": "stdout",
          "output_type": "stream",
          "text": [
            "P-value = 1.8850394384715216e-31\n",
            "Отвергаем гипотезу H0\n"
          ]
        }
      ],
      "source": [
        "results = st.ttest_ind(\n",
        "    users_months_merge.loc[users_months_merge['subscription_fee'] > 0, 'receipts'],\n",
        "    users_months_merge.loc[users_months_merge['subscription_fee'] == 0, 'receipts'],\n",
        "    equal_var=True,\n",
        "    alternative='greater')\n",
        "print('P-value =', results.pvalue)\n",
        "\n",
        "alpha = 0.05\n",
        "if results.pvalue < alpha:\n",
        "    print('Отвергаем гипотезу H0')\n",
        "else:\n",
        "    print('Гипотезу H0 нельзя отвергнуть')"
      ]
    },
    {
      "cell_type": "markdown",
      "id": "c04c0fa1",
      "metadata": {
        "id": "c04c0fa1"
      },
      "source": [
        "<div class=\"alert alert-block alert-info\">\n",
        "<b>Вывод:</b>\n",
        "\n",
        "Можно утверждать, что средняя месячная выручка от пользователей с подпиской, больше, чем от пользователей без подписки, при уровне значимости 5 %.</div>"
      ]
    },
    {
      "cell_type": "markdown",
      "id": "abc6af40",
      "metadata": {
        "id": "abc6af40"
      },
      "source": [
        "##### Техническая команда компании GoFast обновила сервера, с которыми взаимодействует мобильное приложение. Есть надежда, что из-за этого количество обращений в техподдержку значимо снизилось. Некоторый файл содержит для каждого пользователя данные о количестве обращений до обновления и после. Какой тест понадобился бы для проверки гипотезы?"
      ]
    },
    {
      "cell_type": "markdown",
      "id": "db60c35d",
      "metadata": {
        "id": "db60c35d"
      },
      "source": [
        "<div class=\"alert alert-block alert-info\">\n",
        "<b>Ответ:</b>\n",
        "\n",
        "Данные о количестве обращений до обновления и после - это две зависимые выборки. Переменная измеряется дважды (количество обращений до обновления и после) для одних и тех же пользователей и имеют одинаковый размер. Можно применить метод scipy.stats.ttest_rel() для теста гипотезы, что истинное среднее значение генеральной выборки до изменения больше, чем после обновления сервера. Также необхлдимо указать параметр alternative=\"less\".</div>"
      ]
    },
    {
      "cell_type": "markdown",
      "id": "8f55f123",
      "metadata": {
        "id": "8f55f123"
      },
      "source": [
        "<div class=\"alert alert-block alert-info\">\n",
        "<b>Вывод:</b>\n",
        "\n",
        "1. Можно утверждать, что средняя продолжительность поездки с подпиской больше продолжительности поездок без подписки при уровне значимости в 5 %.\n",
        "2. Можно утверждать, что среднее расстояние поездки пользователей с подпиской, не превышает оптимальное для износа самоката расстоянием 3130 метров, при уровне значимости в 5 %.\n",
        "3. Можно утверждать, что средняя месячная выручка от пользователей с подпиской, больше, чем от пользователей без подписки, при уровне значимости 5 %.\n",
        "4. Можно применить метод scipy.stats.ttest_rel() для теста гипотезы, что истинное среднее значение генеральной выборки до изменения больше, чем после обновления сервера, с параметром alternative=\"less\".</div>"
      ]
    },
    {
      "cell_type": "markdown",
      "id": "61213c5e",
      "metadata": {
        "id": "61213c5e"
      },
      "source": [
        "#### Шаг 7. Распределения"
      ]
    },
    {
      "cell_type": "markdown",
      "id": "89f47c74",
      "metadata": {
        "id": "89f47c74"
      },
      "source": [
        "##### Отделу маркетинга GoFast поставили задачу: провести акцию с раздачей промокодов на один бесплатный месяц подписки, в рамках которой как минимум 100 существующих клиентов должны продлить подписку. По завершении периода действия подписки пользователь может либо отказаться, либо продлить, совершив платёж.  Акция уже проводилась ранее и выяснилось, что после бесплатного пробного периода подписку продлевают 10 % пользователей. Необходимо выяснить, какое минимальное количество промокодов нужно разослать, чтобы вероятность не выполнить план была примерно 5 %.  Для решения задачи нужно использовать биномиальное распределение, которое описывает ситуацию. Затем подобрать подходящее значение параметра N для заданного параметра p=0.1 с помощью графиков и метода cdf() ."
      ]
    },
    {
      "cell_type": "code",
      "execution_count": null,
      "id": "95cd1d51",
      "metadata": {
        "id": "95cd1d51",
        "outputId": "5e861227-8979-4b6d-e3e1-4fe2e9b2662a"
      },
      "outputs": [
        {
          "name": "stdout",
          "output_type": "stream",
          "text": [
            "При раздаче 1172 промокодов вероятность невыполнения плана < 5.0 %\n"
          ]
        },
        {
          "data": {
            "image/png": "[encoded data removed]",
            "text/plain": [
              "<Figure size 432x288 with 1 Axes>"
            ]
          },
          "metadata": {
            "needs_background": "light"
          },
          "output_type": "display_data"
        }
      ],
      "source": [
        "n = 1000\n",
        "p = 0.1\n",
        "k = 100\n",
        "binom_cdf = 0.05\n",
        "\n",
        "while binom_cdf < binom.cdf(k, n, p):\n",
        "    n += 1\n",
        "print(f'При раздаче {n} промокодов вероятность невыполнения плана < {binom.cdf(k, n, p).round(2)*100} %')\n",
        "\n",
        "# математическое ожидание и стандартное отклонение биномиального распределения\n",
        "mu = n * p\n",
        "sigma = (n * p * (1 - p))**0.5\n",
        "\n",
        "arange = np.arange ((mu - 4 * sigma), (mu + 4 * sigma), 1)\n",
        "\n",
        "plt.plot(arange, st.norm.pdf(arange , mu, sigma), 'b-')\n",
        "plt.axvline(x=k, color='red')\n",
        "plt.axvline(x=mu, color='blue')\n",
        "# название графика\n",
        "plt.title(\"График плотности нормального распределения\")\n",
        "# подписи осей\n",
        "plt.xlabel(\"Количество клиентов, продливших подписку\")\n",
        "plt.ylabel(\"Плотность вероятности\")\n",
        "plt.show()"
      ]
    },
    {
      "cell_type": "markdown",
      "id": "048e8adb",
      "metadata": {
        "id": "048e8adb"
      },
      "source": [
        "<div class=\"alert alert-block alert-info\">\n",
        "<b>Вывод:</b>\n",
        "\n",
        "Необходимо раздать подписчикам не менее 1172 промокодов, чтобы минимум 100 существующих клиентов продлили подписку (обычно продлевают подписку 10% пользователей) с вероятностью невыполнения плана - 5%.</div>"
      ]
    },
    {
      "cell_type": "markdown",
      "id": "031c3bce",
      "metadata": {
        "id": "031c3bce"
      },
      "source": [
        "##### Отдел маркетинга рассылает клиентам push-уведомления в мобильном приложении.  Известно, что уведомления открывают около 40 % получивших клиентов. Отдел планирует разослать 1 млн уведомлений. С помощью аппроксимации постройте график распределения и оцените вероятность, что уведомление откроют не более  399,5 тыс. пользователей. Для решения задачи можно воспользоваться нормальной аппроксимацией биномиального распределения и cdf() для быстрой оценки."
      ]
    },
    {
      "cell_type": "code",
      "execution_count": null,
      "id": "ff12ec42",
      "metadata": {
        "id": "ff12ec42",
        "outputId": "21cd9684-995c-4b95-bf68-b2f3010a0eea"
      },
      "outputs": [
        {
          "name": "stdout",
          "output_type": "stream",
          "text": [
            "Вероятность открытия не более 399,5 тысяч уведомлений: 15.4 %\n"
          ]
        },
        {
          "data": {
            "image/png": "[encoded data removed]",
            "text/plain": [
              "<Figure size 432x288 with 1 Axes>"
            ]
          },
          "metadata": {
            "needs_background": "light"
          },
          "output_type": "display_data"
        }
      ],
      "source": [
        "n = 1000000\n",
        "p = 0.4\n",
        "k = 399500\n",
        "# математическое ожидание и стандартное отклонение нормального распределения равны\n",
        "# математическое ожидание и стандартное отклонение биномиального распределения\n",
        "mu = n * p\n",
        "sigma = (n * p * (1 - p))**0.5\n",
        "\n",
        "# задание нормального распределения и вычисление вероятность левого хвоста от 399.5 тысяч\n",
        "result = st.norm(mu, sigma).cdf(k)\n",
        "print('Вероятность открытия не более 399,5 тысяч уведомлений:', result.round(3)*100, '%')\n",
        "\n",
        "arange = np.arange((mu - 4 * sigma),(mu + 4 * sigma),1)\n",
        "plt.plot(arange, st.norm.pdf(arange, mu, sigma), 'b-')\n",
        "plt.xticks(rotation=90)\n",
        "plt.axvline(x=k, color='red')\n",
        "plt.axvline(x=mu, color='blue')\n",
        "# название графика\n",
        "plt.title(\"График плотности нормального распределения\")\n",
        "# подписи осей\n",
        "plt.xlabel(\"Количество открытых пользователями уведомлений\")\n",
        "plt.ylabel(\"Плотность вероятности\")\n",
        "plt.show()"
      ]
    },
    {
      "cell_type": "markdown",
      "id": "29b12066",
      "metadata": {
        "id": "29b12066"
      },
      "source": [
        "<div class=\"alert alert-block alert-info\">\n",
        "<b>Вывод:</b>\n",
        "Если разослать 1 млн уведомлений (откроют 40 % получивших), тогда вероятность, что уведомление откроют не более 399,5 тыс. пользователей - 15,4%.</div>"
      ]
    },
    {
      "cell_type": "markdown",
      "id": "3943be06",
      "metadata": {
        "id": "3943be06"
      },
      "source": [
        "<div class=\"alert alert-block alert-info\">\n",
        "<b>Вывод по проекту \"Статистический анализ данных\":</b>\n",
        "\n",
        "**Задание проекта:**\n",
        "\n",
        "Сервис аренды самокатов GoFast передал для анализа данные о поездках пользователяе из нескольких городов. Необходимо провести исследование и проверить некоторые гипотезы, которые могут помочь бизнесу компании.\n",
        "\n",
        "Для исследования данных произведен импорт необходимых библиотек python: pandas, matplotlib.pyplot, numpy, from scipy import stats, from scipy.stats import binom.\n",
        "    \n",
        "Загружены файлы CSV с данными: датафрейм users_go.csv со столбцами - user_id - уникальный идентификатор пользователя, name - имя пользователя, age - возраст, city- город; датафрейм rides_go.csv со столбцами - user_id - уникальный идентификатор пользователя, distance - расстояние, которое пользователь проехал в метрах, duration - продолжительность поездки в минутах,\n",
        "date - дата поездки; датафрейм subscriptions_go.csv со столбцами - subscription_type - тип подписки. minute_price - стоимость минуты поездки по подписке. start_ride_price - стоимость начала поездки, subscription_fee - стоимость ежемесячного платежа.\n",
        "\n",
        "**Предобработка данных:**\n",
        "    \n",
        "Слелана предобработка данных: датафрейм users_go содеожит 1565 записи, без пропусков нет, явные дубликаты 31 шт. - удалены (осталось 1534 уникальных записей). Датафрейм rides_go содержит 18068 записи, пропусков и явных дубликатов нет, некорректный фомат даты object изменен на datetime64[ns]. Датафрейм subscriptions_go - 2 записи, пропусков и дубликатов нет. Наименования столбцов всех датафреймов корректные, в змеином регистре.\n",
        "\n",
        "**Промежуточные выводы:**\n",
        "    \n",
        "1. Услугами сервиса аренды самокатов пользуются больше всего в Пятигорске, Екатеринбурге и Ростове на Дону, меньше всего - в Тюмени и Москве.\n",
        "\n",
        "2. Пользователей без подписки (free) ~ 54% с подпиской (ultra) ~ 46%.\n",
        "\n",
        "3. Средний возраст пользователя подчиняется нормальному распределению с медианой примерно в 25 лет. Средний возраст и медиана совпадают. Среди пользователей есть несовершеннолетние (12-17 лет) - это нарушение правил использования самокатов в РФ.\n",
        "\n",
        "4. Медиана расстояния поездок - 3133 метров. Гистограмма имеет нормальное распределение зависимости с основным пиком 3130 м и второстепенным около 750 м.\n",
        "\n",
        "5. Медиана продолжительности поездок - 18 минут. Гистограмма имеет нормальное распределение зависимости. Также есть аномальное время ~100 поездок с временем около 1 минуты.\n",
        "\n",
        "6. Визуализация датафреймов зависимости расстяния поездок пользователей показывает, что подписка влияет на медиану (расстояние без подписки 3115, а с подпиской - 3149 метров). У пользователей с подпиской меньшее стандартное отклонение: free - 1246, ultra - 837. Также наблюдается смешение дополнительного пика с 600 м (free) до 1000 м (ultra).\n",
        "\n",
        "7. Визуализация датафреймов зависимости времени поездок пользователям показывает, что подписка влияет на медиану (без подписки - 18 мин с подпиской - 19 мин). Также в подписке ultra отсуствует выброс по времени поедки продолжительностью около 1 мин.\n",
        "\n",
        "8. Подписка влияет как на расстояние, так и на время поездок пользователей.\n",
        "\n",
        "9. Выручка компании GoFast от аренды самокатов за период - 3 878 641.00 рублей.\n",
        "\n",
        "10. Можно утверждать, что средняя продолжительность поездки с подпиской больше продолжительности поездок без подписки при уровне значимости в 5 %.\n",
        "\n",
        "11. Можно утверждать, что среднее расстояние поездки пользователей с подпиской, не превышает оптимальное для износа самоката расстоянием 3130 метров, при уровне значимости в 5 %.\n",
        "\n",
        "12. Можно утверждать, что средняя месячная выручка от пользователей с подпиской, больше, чем от пользователей без подписки, при уровне значимости 5 %.\n",
        "\n",
        "13. Техническая команда компании GoFast обновила сервера, с которыми взаимодействует мобильное приложение. Можно применить метод scipy.stats.ttest_rel() для теста гипотезы, что истинное среднее значение генеральной выборки до изменения больше, чем после обновления сервера, с параметром alternative=\"less\".\n",
        "\n",
        "14. Необходимо раздать подписчикам не менее 1172 промокодов, чтобы минимум 100 существующих клиентов продлили подписку (обычно продлевают подписку 10% пользователей) с вероятностью невыполнения плана - 5%.\n",
        "\n",
        "15. Если разослать 1 млн уведомлений (откроют 40 % получивших), тогда вероятность, что уведомление откроют не более 399,5 тыс. пользователей - 15,4%.</div>\n"
      ]
    },
    {
      "cell_type": "markdown",
      "id": "5b55aa98",
      "metadata": {
        "id": "5b55aa98"
      },
      "source": [
        "<div class=\"alert alert-block alert-info\">\n",
        "<b>Резюме:    \n",
        "\n",
        "Пользователи с подпиской (ultra) более выгодные для сервиса аренды самокатов GoFast, чем без подписки (free). Поэтому компании для увеличения выручки необходимо стимулировать клиентов оформлять подписку ultra.</b></div>"
      ]
    }
  ],
  "metadata": {
    "ExecuteTimeLog": [
      {
        "duration": 1293,
        "start_time": "2025-01-21T10:12:39.401Z"
      },
      {
        "duration": 105,
        "start_time": "2025-01-21T10:15:42.625Z"
      },
      {
        "duration": 168,
        "start_time": "2025-01-21T10:16:11.103Z"
      },
      {
        "duration": 167,
        "start_time": "2025-01-21T10:17:03.254Z"
      },
      {
        "duration": 29,
        "start_time": "2025-01-21T10:17:15.909Z"
      },
      {
        "duration": 11,
        "start_time": "2025-01-21T10:20:21.191Z"
      },
      {
        "duration": 5,
        "start_time": "2025-01-21T10:20:56.766Z"
      },
      {
        "duration": 10,
        "start_time": "2025-01-21T10:22:16.443Z"
      },
      {
        "duration": 8,
        "start_time": "2025-01-21T10:22:46.449Z"
      },
      {
        "duration": 10,
        "start_time": "2025-01-21T10:23:04.187Z"
      },
      {
        "duration": 12,
        "start_time": "2025-01-21T11:02:47.427Z"
      },
      {
        "duration": 11,
        "start_time": "2025-01-21T11:05:48.213Z"
      },
      {
        "duration": 8,
        "start_time": "2025-01-21T11:12:55.274Z"
      },
      {
        "duration": 14,
        "start_time": "2025-01-21T11:18:06.201Z"
      },
      {
        "duration": 11,
        "start_time": "2025-01-21T11:20:26.662Z"
      },
      {
        "duration": 93,
        "start_time": "2025-01-21T11:21:14.177Z"
      },
      {
        "duration": 90,
        "start_time": "2025-01-21T11:21:50.119Z"
      },
      {
        "duration": 78,
        "start_time": "2025-01-21T11:22:02.280Z"
      },
      {
        "duration": 160,
        "start_time": "2025-01-21T11:22:12.488Z"
      },
      {
        "duration": 139,
        "start_time": "2025-01-21T11:22:38.257Z"
      },
      {
        "duration": 143,
        "start_time": "2025-01-21T11:22:52.860Z"
      },
      {
        "duration": 154,
        "start_time": "2025-01-21T11:24:10.858Z"
      },
      {
        "duration": 154,
        "start_time": "2025-01-21T11:24:52.876Z"
      },
      {
        "duration": 79,
        "start_time": "2025-01-21T11:27:37.715Z"
      },
      {
        "duration": 100,
        "start_time": "2025-01-21T11:28:10.176Z"
      },
      {
        "duration": 89,
        "start_time": "2025-01-21T11:29:27.265Z"
      },
      {
        "duration": 17,
        "start_time": "2025-01-21T11:30:05.782Z"
      },
      {
        "duration": 124,
        "start_time": "2025-01-21T11:30:34.668Z"
      },
      {
        "duration": 121,
        "start_time": "2025-01-21T11:31:48.909Z"
      },
      {
        "duration": 9,
        "start_time": "2025-01-21T11:35:38.839Z"
      },
      {
        "duration": 9,
        "start_time": "2025-01-21T11:35:52.339Z"
      },
      {
        "duration": 8,
        "start_time": "2025-01-21T11:35:59.752Z"
      },
      {
        "duration": 8,
        "start_time": "2025-01-21T11:37:00.948Z"
      },
      {
        "duration": 8,
        "start_time": "2025-01-21T11:37:21.749Z"
      },
      {
        "duration": 7,
        "start_time": "2025-01-21T11:38:46.065Z"
      },
      {
        "duration": 8,
        "start_time": "2025-01-21T11:39:08.370Z"
      },
      {
        "duration": 676,
        "start_time": "2025-01-21T11:42:11.257Z"
      },
      {
        "duration": 323,
        "start_time": "2025-01-21T11:42:29.436Z"
      },
      {
        "duration": 11,
        "start_time": "2025-01-21T11:44:26.138Z"
      },
      {
        "duration": 9,
        "start_time": "2025-01-21T11:44:44.642Z"
      },
      {
        "duration": 319,
        "start_time": "2025-01-21T11:55:36.018Z"
      },
      {
        "duration": 290,
        "start_time": "2025-01-21T11:55:48.575Z"
      },
      {
        "duration": 29,
        "start_time": "2025-01-21T12:20:58.045Z"
      },
      {
        "duration": 28,
        "start_time": "2025-01-21T12:21:09.834Z"
      },
      {
        "duration": 12,
        "start_time": "2025-01-21T12:21:56.820Z"
      },
      {
        "duration": 15,
        "start_time": "2025-01-21T12:22:28.572Z"
      },
      {
        "duration": 11,
        "start_time": "2025-01-21T12:22:54.024Z"
      },
      {
        "duration": 14,
        "start_time": "2025-01-21T12:26:05.754Z"
      },
      {
        "duration": 13,
        "start_time": "2025-01-21T12:26:46.243Z"
      },
      {
        "duration": 8,
        "start_time": "2025-01-21T12:44:06.186Z"
      },
      {
        "duration": 10,
        "start_time": "2025-01-21T12:44:18.864Z"
      },
      {
        "duration": 12,
        "start_time": "2025-01-21T12:44:42.336Z"
      },
      {
        "duration": 200,
        "start_time": "2025-01-21T12:48:23.776Z"
      },
      {
        "duration": 445,
        "start_time": "2025-01-21T12:51:33.391Z"
      },
      {
        "duration": 13,
        "start_time": "2025-01-21T12:53:03.819Z"
      },
      {
        "duration": 13,
        "start_time": "2025-01-21T12:53:38.876Z"
      },
      {
        "duration": 442,
        "start_time": "2025-01-21T12:55:14.235Z"
      },
      {
        "duration": 12,
        "start_time": "2025-01-21T13:02:13.377Z"
      },
      {
        "duration": 39,
        "start_time": "2025-01-21T13:17:59.368Z"
      },
      {
        "duration": 40,
        "start_time": "2025-01-21T13:20:28.212Z"
      },
      {
        "duration": 52,
        "start_time": "2025-01-22T06:09:47.792Z"
      },
      {
        "duration": 1418,
        "start_time": "2025-01-22T06:09:55.613Z"
      },
      {
        "duration": 87,
        "start_time": "2025-01-22T06:09:57.033Z"
      },
      {
        "duration": 89,
        "start_time": "2025-01-22T06:09:57.213Z"
      },
      {
        "duration": 66,
        "start_time": "2025-01-22T06:09:57.602Z"
      },
      {
        "duration": 12,
        "start_time": "2025-01-22T06:09:58.810Z"
      },
      {
        "duration": 6,
        "start_time": "2025-01-22T06:09:59.284Z"
      },
      {
        "duration": 13,
        "start_time": "2025-01-22T06:09:59.694Z"
      },
      {
        "duration": 11,
        "start_time": "2025-01-22T06:10:00.134Z"
      },
      {
        "duration": 11,
        "start_time": "2025-01-22T06:10:00.575Z"
      },
      {
        "duration": 14,
        "start_time": "2025-01-22T06:10:03.511Z"
      },
      {
        "duration": 13,
        "start_time": "2025-01-22T06:10:04.664Z"
      },
      {
        "duration": 9,
        "start_time": "2025-01-22T06:10:05.751Z"
      },
      {
        "duration": 17,
        "start_time": "2025-01-22T06:10:07.864Z"
      },
      {
        "duration": 202,
        "start_time": "2025-01-22T06:10:08.690Z"
      },
      {
        "duration": 159,
        "start_time": "2025-01-22T06:10:10.054Z"
      },
      {
        "duration": 9,
        "start_time": "2025-01-22T06:10:11.418Z"
      },
      {
        "duration": 10,
        "start_time": "2025-01-22T06:10:12.697Z"
      },
      {
        "duration": 403,
        "start_time": "2025-01-22T06:10:13.420Z"
      },
      {
        "duration": 9,
        "start_time": "2025-01-22T06:10:14.654Z"
      },
      {
        "duration": 303,
        "start_time": "2025-01-22T06:10:15.306Z"
      },
      {
        "duration": 38,
        "start_time": "2025-01-22T06:10:17.681Z"
      },
      {
        "duration": 13,
        "start_time": "2025-01-22T06:10:18.351Z"
      },
      {
        "duration": 15,
        "start_time": "2025-01-22T06:10:19.573Z"
      },
      {
        "duration": 15,
        "start_time": "2025-01-22T06:10:20.207Z"
      },
      {
        "duration": 15,
        "start_time": "2025-01-22T06:10:21.447Z"
      },
      {
        "duration": 618,
        "start_time": "2025-01-22T06:10:22.238Z"
      },
      {
        "duration": 14,
        "start_time": "2025-01-22T06:10:22.860Z"
      },
      {
        "duration": 526,
        "start_time": "2025-01-22T06:10:23.571Z"
      },
      {
        "duration": 106,
        "start_time": "2025-01-22T06:10:27.234Z"
      },
      {
        "duration": 54,
        "start_time": "2025-01-22T06:10:47.092Z"
      },
      {
        "duration": 48,
        "start_time": "2025-01-22T06:11:10.280Z"
      },
      {
        "duration": 61,
        "start_time": "2025-01-22T06:11:18.880Z"
      },
      {
        "duration": 15,
        "start_time": "2025-01-22T06:18:22.239Z"
      },
      {
        "duration": 9,
        "start_time": "2025-01-22T06:19:02.034Z"
      },
      {
        "duration": 9,
        "start_time": "2025-01-22T06:19:58.690Z"
      },
      {
        "duration": 7,
        "start_time": "2025-01-22T06:20:46.813Z"
      },
      {
        "duration": 11,
        "start_time": "2025-01-22T06:22:44.632Z"
      },
      {
        "duration": 8,
        "start_time": "2025-01-22T06:24:11.520Z"
      },
      {
        "duration": 10,
        "start_time": "2025-01-22T06:25:04.814Z"
      },
      {
        "duration": 10,
        "start_time": "2025-01-22T06:25:21.570Z"
      },
      {
        "duration": 6,
        "start_time": "2025-01-22T06:46:03.126Z"
      },
      {
        "duration": 6,
        "start_time": "2025-01-22T06:53:36.910Z"
      },
      {
        "duration": 7,
        "start_time": "2025-01-22T06:57:20.982Z"
      },
      {
        "duration": 5,
        "start_time": "2025-01-22T06:57:39.946Z"
      },
      {
        "duration": 9,
        "start_time": "2025-01-22T07:03:50.778Z"
      },
      {
        "duration": 38,
        "start_time": "2025-01-22T07:38:16.371Z"
      },
      {
        "duration": 36,
        "start_time": "2025-01-22T07:38:39.248Z"
      },
      {
        "duration": 33,
        "start_time": "2025-01-22T07:38:48.531Z"
      },
      {
        "duration": 338,
        "start_time": "2025-01-22T07:39:28.702Z"
      },
      {
        "duration": 239,
        "start_time": "2025-01-22T07:53:01.344Z"
      },
      {
        "duration": 88,
        "start_time": "2025-01-22T07:54:33.195Z"
      },
      {
        "duration": 282,
        "start_time": "2025-01-22T07:54:42.502Z"
      },
      {
        "duration": 282,
        "start_time": "2025-01-22T07:54:56.705Z"
      },
      {
        "duration": 268,
        "start_time": "2025-01-22T07:55:04.319Z"
      },
      {
        "duration": 273,
        "start_time": "2025-01-22T07:55:10.606Z"
      },
      {
        "duration": 12,
        "start_time": "2025-01-22T09:49:54.100Z"
      },
      {
        "duration": 21,
        "start_time": "2025-01-22T09:50:02.957Z"
      },
      {
        "duration": 251,
        "start_time": "2025-01-22T09:50:57.839Z"
      },
      {
        "duration": 370,
        "start_time": "2025-01-22T09:52:22.309Z"
      },
      {
        "duration": 3,
        "start_time": "2025-01-22T09:53:45.275Z"
      },
      {
        "duration": 34,
        "start_time": "2025-01-22T09:53:47.058Z"
      },
      {
        "duration": 34,
        "start_time": "2025-01-22T09:53:47.747Z"
      },
      {
        "duration": 32,
        "start_time": "2025-01-22T09:53:48.384Z"
      },
      {
        "duration": 11,
        "start_time": "2025-01-22T09:53:49.583Z"
      },
      {
        "duration": 7,
        "start_time": "2025-01-22T09:53:50.175Z"
      },
      {
        "duration": 12,
        "start_time": "2025-01-22T09:53:50.785Z"
      },
      {
        "duration": 9,
        "start_time": "2025-01-22T09:53:51.392Z"
      },
      {
        "duration": 13,
        "start_time": "2025-01-22T09:53:52.020Z"
      },
      {
        "duration": 15,
        "start_time": "2025-01-22T09:53:54.532Z"
      },
      {
        "duration": 12,
        "start_time": "2025-01-22T09:53:55.753Z"
      },
      {
        "duration": 9,
        "start_time": "2025-01-22T09:53:57.044Z"
      },
      {
        "duration": 14,
        "start_time": "2025-01-22T09:53:59.481Z"
      },
      {
        "duration": 159,
        "start_time": "2025-01-22T09:54:00.142Z"
      },
      {
        "duration": 139,
        "start_time": "2025-01-22T09:54:01.621Z"
      },
      {
        "duration": 11,
        "start_time": "2025-01-22T09:54:09.707Z"
      },
      {
        "duration": 12,
        "start_time": "2025-01-22T09:54:12.509Z"
      },
      {
        "duration": 371,
        "start_time": "2025-01-22T09:54:13.220Z"
      },
      {
        "duration": 10,
        "start_time": "2025-01-22T09:54:14.464Z"
      },
      {
        "duration": 256,
        "start_time": "2025-01-22T09:54:15.103Z"
      },
      {
        "duration": 35,
        "start_time": "2025-01-22T09:54:17.729Z"
      },
      {
        "duration": 13,
        "start_time": "2025-01-22T09:54:18.383Z"
      },
      {
        "duration": 16,
        "start_time": "2025-01-22T09:54:19.629Z"
      },
      {
        "duration": 14,
        "start_time": "2025-01-22T09:54:20.249Z"
      },
      {
        "duration": 14,
        "start_time": "2025-01-22T09:54:21.499Z"
      },
      {
        "duration": 470,
        "start_time": "2025-01-22T09:54:22.408Z"
      },
      {
        "duration": 14,
        "start_time": "2025-01-22T09:54:23.058Z"
      },
      {
        "duration": 556,
        "start_time": "2025-01-22T09:54:23.719Z"
      },
      {
        "duration": 45,
        "start_time": "2025-01-22T09:54:26.322Z"
      },
      {
        "duration": 11,
        "start_time": "2025-01-22T09:54:27.703Z"
      },
      {
        "duration": 5,
        "start_time": "2025-01-22T09:54:30.302Z"
      },
      {
        "duration": 5,
        "start_time": "2025-01-22T09:54:32.131Z"
      },
      {
        "duration": 8,
        "start_time": "2025-01-22T09:54:34.007Z"
      },
      {
        "duration": 265,
        "start_time": "2025-01-22T09:54:38.428Z"
      },
      {
        "duration": 275,
        "start_time": "2025-01-22T09:54:41.134Z"
      },
      {
        "duration": 1190,
        "start_time": "2025-01-22T10:06:02.019Z"
      },
      {
        "duration": 86,
        "start_time": "2025-01-22T10:06:03.211Z"
      },
      {
        "duration": 87,
        "start_time": "2025-01-22T10:06:03.299Z"
      },
      {
        "duration": 65,
        "start_time": "2025-01-22T10:06:03.388Z"
      },
      {
        "duration": 12,
        "start_time": "2025-01-22T10:06:03.455Z"
      },
      {
        "duration": 17,
        "start_time": "2025-01-22T10:06:03.468Z"
      },
      {
        "duration": 27,
        "start_time": "2025-01-22T10:06:03.487Z"
      },
      {
        "duration": 27,
        "start_time": "2025-01-22T10:06:03.516Z"
      },
      {
        "duration": 36,
        "start_time": "2025-01-22T10:06:03.544Z"
      },
      {
        "duration": 29,
        "start_time": "2025-01-22T10:06:03.582Z"
      },
      {
        "duration": 22,
        "start_time": "2025-01-22T10:06:03.612Z"
      },
      {
        "duration": 7,
        "start_time": "2025-01-22T10:06:03.636Z"
      },
      {
        "duration": 36,
        "start_time": "2025-01-22T10:06:03.645Z"
      },
      {
        "duration": 443,
        "start_time": "2025-01-22T10:06:03.683Z"
      },
      {
        "duration": 146,
        "start_time": "2025-01-22T10:06:04.128Z"
      },
      {
        "duration": 9,
        "start_time": "2025-01-22T10:06:04.275Z"
      },
      {
        "duration": 21,
        "start_time": "2025-01-22T10:06:04.285Z"
      },
      {
        "duration": 417,
        "start_time": "2025-01-22T10:06:04.308Z"
      },
      {
        "duration": 18,
        "start_time": "2025-01-22T10:06:04.727Z"
      },
      {
        "duration": 292,
        "start_time": "2025-01-22T10:06:04.747Z"
      },
      {
        "duration": 34,
        "start_time": "2025-01-22T10:06:05.041Z"
      },
      {
        "duration": 11,
        "start_time": "2025-01-22T10:06:05.077Z"
      },
      {
        "duration": 16,
        "start_time": "2025-01-22T10:06:05.090Z"
      },
      {
        "duration": 35,
        "start_time": "2025-01-22T10:06:05.107Z"
      },
      {
        "duration": 21,
        "start_time": "2025-01-22T10:06:05.144Z"
      },
      {
        "duration": 595,
        "start_time": "2025-01-22T10:06:05.167Z"
      },
      {
        "duration": 14,
        "start_time": "2025-01-22T10:06:05.764Z"
      },
      {
        "duration": 528,
        "start_time": "2025-01-22T10:06:05.781Z"
      },
      {
        "duration": 56,
        "start_time": "2025-01-22T10:06:06.311Z"
      },
      {
        "duration": 11,
        "start_time": "2025-01-22T10:06:06.369Z"
      },
      {
        "duration": 53,
        "start_time": "2025-01-22T10:06:06.383Z"
      },
      {
        "duration": 53,
        "start_time": "2025-01-22T10:06:06.437Z"
      },
      {
        "duration": 46,
        "start_time": "2025-01-22T10:06:06.492Z"
      },
      {
        "duration": 253,
        "start_time": "2025-01-22T10:06:06.540Z"
      },
      {
        "duration": 309,
        "start_time": "2025-01-22T10:06:06.795Z"
      },
      {
        "duration": 11,
        "start_time": "2025-01-22T10:35:49.478Z"
      },
      {
        "duration": 185,
        "start_time": "2025-01-22T10:41:08.966Z"
      },
      {
        "duration": 5,
        "start_time": "2025-01-22T11:17:45.887Z"
      },
      {
        "duration": 50,
        "start_time": "2025-01-23T06:14:28.938Z"
      },
      {
        "duration": 1301,
        "start_time": "2025-01-23T06:14:37.159Z"
      },
      {
        "duration": 84,
        "start_time": "2025-01-23T06:14:40.106Z"
      },
      {
        "duration": 61,
        "start_time": "2025-01-23T06:29:32.416Z"
      },
      {
        "duration": 16,
        "start_time": "2025-01-23T06:29:51.815Z"
      },
      {
        "duration": 201,
        "start_time": "2025-01-23T06:29:54.459Z"
      },
      {
        "duration": 191,
        "start_time": "2025-01-23T06:32:01.678Z"
      },
      {
        "duration": 13,
        "start_time": "2025-01-23T06:41:11.843Z"
      },
      {
        "duration": 12,
        "start_time": "2025-01-23T06:41:16.246Z"
      },
      {
        "duration": 172,
        "start_time": "2025-01-23T06:44:25.431Z"
      },
      {
        "duration": 182,
        "start_time": "2025-01-23T06:46:13.979Z"
      },
      {
        "duration": 151,
        "start_time": "2025-01-23T06:46:31.868Z"
      },
      {
        "duration": 131,
        "start_time": "2025-01-23T06:46:56.934Z"
      },
      {
        "duration": 146,
        "start_time": "2025-01-23T06:47:10.544Z"
      },
      {
        "duration": 147,
        "start_time": "2025-01-23T06:47:39.939Z"
      },
      {
        "duration": 139,
        "start_time": "2025-01-23T06:48:10.709Z"
      },
      {
        "duration": 206,
        "start_time": "2025-01-23T06:48:42.875Z"
      },
      {
        "duration": 9,
        "start_time": "2025-01-23T06:49:28.969Z"
      },
      {
        "duration": 288,
        "start_time": "2025-01-23T06:50:26.713Z"
      },
      {
        "duration": 9,
        "start_time": "2025-01-23T06:57:04.563Z"
      },
      {
        "duration": 8,
        "start_time": "2025-01-23T06:57:06.818Z"
      },
      {
        "duration": 9,
        "start_time": "2025-01-23T06:57:08.474Z"
      },
      {
        "duration": 3,
        "start_time": "2025-01-23T06:57:31.481Z"
      },
      {
        "duration": 34,
        "start_time": "2025-01-23T06:57:32.758Z"
      },
      {
        "duration": 95,
        "start_time": "2025-01-23T06:57:33.850Z"
      },
      {
        "duration": 74,
        "start_time": "2025-01-23T06:57:34.991Z"
      },
      {
        "duration": 11,
        "start_time": "2025-01-23T06:57:36.736Z"
      },
      {
        "duration": 5,
        "start_time": "2025-01-23T06:57:37.329Z"
      },
      {
        "duration": 10,
        "start_time": "2025-01-23T06:57:37.859Z"
      },
      {
        "duration": 8,
        "start_time": "2025-01-23T06:57:38.404Z"
      },
      {
        "duration": 10,
        "start_time": "2025-01-23T06:57:38.979Z"
      },
      {
        "duration": 14,
        "start_time": "2025-01-23T06:57:41.935Z"
      },
      {
        "duration": 11,
        "start_time": "2025-01-23T06:57:44.204Z"
      },
      {
        "duration": 8,
        "start_time": "2025-01-23T06:57:46.092Z"
      },
      {
        "duration": 9,
        "start_time": "2025-01-23T06:57:49.125Z"
      },
      {
        "duration": 13,
        "start_time": "2025-01-23T06:57:51.947Z"
      },
      {
        "duration": 167,
        "start_time": "2025-01-23T06:57:53.407Z"
      },
      {
        "duration": 181,
        "start_time": "2025-01-23T06:57:55.850Z"
      },
      {
        "duration": 140,
        "start_time": "2025-01-23T06:57:57.383Z"
      },
      {
        "duration": 8,
        "start_time": "2025-01-23T06:57:59.730Z"
      },
      {
        "duration": 294,
        "start_time": "2025-01-23T06:58:00.970Z"
      },
      {
        "duration": 9,
        "start_time": "2025-01-23T06:58:03.439Z"
      },
      {
        "duration": 387,
        "start_time": "2025-01-23T06:58:04.138Z"
      },
      {
        "duration": 9,
        "start_time": "2025-01-23T06:59:15.223Z"
      },
      {
        "duration": 360,
        "start_time": "2025-01-23T06:59:15.867Z"
      },
      {
        "duration": 48,
        "start_time": "2025-01-23T06:59:31.930Z"
      },
      {
        "duration": 13,
        "start_time": "2025-01-23T06:59:33.379Z"
      },
      {
        "duration": 28,
        "start_time": "2025-01-23T06:59:37.701Z"
      },
      {
        "duration": 14,
        "start_time": "2025-01-23T06:59:38.461Z"
      },
      {
        "duration": 14,
        "start_time": "2025-01-23T06:59:42.147Z"
      },
      {
        "duration": 543,
        "start_time": "2025-01-23T06:59:46.417Z"
      },
      {
        "duration": 16,
        "start_time": "2025-01-23T06:59:48.144Z"
      },
      {
        "duration": 490,
        "start_time": "2025-01-23T06:59:49.319Z"
      },
      {
        "duration": 46,
        "start_time": "2025-01-23T07:03:52.268Z"
      },
      {
        "duration": 47,
        "start_time": "2025-01-23T07:04:35.088Z"
      },
      {
        "duration": 11,
        "start_time": "2025-01-23T07:04:37.372Z"
      },
      {
        "duration": 326,
        "start_time": "2025-01-23T07:10:34.622Z"
      },
      {
        "duration": 288,
        "start_time": "2025-01-23T07:11:37.704Z"
      },
      {
        "duration": 16,
        "start_time": "2025-01-23T07:15:03.944Z"
      },
      {
        "duration": 7,
        "start_time": "2025-01-23T07:15:20.418Z"
      },
      {
        "duration": 9,
        "start_time": "2025-01-23T07:44:41.525Z"
      },
      {
        "duration": 3,
        "start_time": "2025-01-23T07:50:35.187Z"
      },
      {
        "duration": 35,
        "start_time": "2025-01-23T07:50:36.723Z"
      },
      {
        "duration": 54,
        "start_time": "2025-01-23T07:50:37.868Z"
      },
      {
        "duration": 30,
        "start_time": "2025-01-23T07:50:38.959Z"
      },
      {
        "duration": 10,
        "start_time": "2025-01-23T07:50:40.587Z"
      },
      {
        "duration": 6,
        "start_time": "2025-01-23T07:50:41.131Z"
      },
      {
        "duration": 11,
        "start_time": "2025-01-23T07:50:41.665Z"
      },
      {
        "duration": 8,
        "start_time": "2025-01-23T07:50:42.186Z"
      },
      {
        "duration": 11,
        "start_time": "2025-01-23T07:50:42.753Z"
      },
      {
        "duration": 13,
        "start_time": "2025-01-23T07:50:45.523Z"
      },
      {
        "duration": 13,
        "start_time": "2025-01-23T07:50:47.768Z"
      },
      {
        "duration": 7,
        "start_time": "2025-01-23T07:50:49.436Z"
      },
      {
        "duration": 10,
        "start_time": "2025-01-23T07:50:50.043Z"
      },
      {
        "duration": 9,
        "start_time": "2025-01-23T07:50:52.825Z"
      },
      {
        "duration": 12,
        "start_time": "2025-01-23T07:50:55.009Z"
      },
      {
        "duration": 170,
        "start_time": "2025-01-23T07:50:55.550Z"
      },
      {
        "duration": 275,
        "start_time": "2025-01-23T07:51:01.967Z"
      },
      {
        "duration": 146,
        "start_time": "2025-01-23T07:51:04.089Z"
      },
      {
        "duration": 1099,
        "start_time": "2025-01-23T15:40:30.987Z"
      },
      {
        "duration": 37,
        "start_time": "2025-01-23T15:40:32.088Z"
      },
      {
        "duration": 53,
        "start_time": "2025-01-23T15:40:32.126Z"
      },
      {
        "duration": 19,
        "start_time": "2025-01-23T15:40:32.181Z"
      },
      {
        "duration": 11,
        "start_time": "2025-01-23T15:40:32.202Z"
      },
      {
        "duration": 7,
        "start_time": "2025-01-23T15:40:32.214Z"
      },
      {
        "duration": 22,
        "start_time": "2025-01-23T15:40:32.222Z"
      },
      {
        "duration": 74,
        "start_time": "2025-01-23T15:40:32.245Z"
      },
      {
        "duration": 19,
        "start_time": "2025-01-23T15:40:32.321Z"
      },
      {
        "duration": 20,
        "start_time": "2025-01-23T15:40:32.342Z"
      },
      {
        "duration": 10,
        "start_time": "2025-01-23T15:40:32.364Z"
      },
      {
        "duration": 9,
        "start_time": "2025-01-23T15:40:32.376Z"
      },
      {
        "duration": 12,
        "start_time": "2025-01-23T15:40:32.386Z"
      },
      {
        "duration": 8,
        "start_time": "2025-01-23T15:40:32.400Z"
      },
      {
        "duration": 41,
        "start_time": "2025-01-23T15:40:32.410Z"
      },
      {
        "duration": 186,
        "start_time": "2025-01-23T15:40:32.453Z"
      },
      {
        "duration": 212,
        "start_time": "2025-01-23T15:40:32.645Z"
      },
      {
        "duration": 142,
        "start_time": "2025-01-23T15:40:32.858Z"
      },
      {
        "duration": 9,
        "start_time": "2025-01-23T15:40:33.001Z"
      },
      {
        "duration": 283,
        "start_time": "2025-01-23T15:40:33.011Z"
      },
      {
        "duration": 8,
        "start_time": "2025-01-23T15:40:33.295Z"
      },
      {
        "duration": 353,
        "start_time": "2025-01-23T15:40:33.304Z"
      },
      {
        "duration": 8,
        "start_time": "2025-01-23T15:40:33.658Z"
      },
      {
        "duration": 333,
        "start_time": "2025-01-23T15:40:33.667Z"
      },
      {
        "duration": 31,
        "start_time": "2025-01-23T15:40:34.001Z"
      },
      {
        "duration": 11,
        "start_time": "2025-01-23T15:40:34.046Z"
      },
      {
        "duration": 103,
        "start_time": "2025-01-23T15:40:34.059Z"
      },
      {
        "duration": 15,
        "start_time": "2025-01-23T15:40:34.165Z"
      },
      {
        "duration": 14,
        "start_time": "2025-01-23T15:40:34.181Z"
      },
      {
        "duration": 431,
        "start_time": "2025-01-23T15:40:34.196Z"
      },
      {
        "duration": 24,
        "start_time": "2025-01-23T15:40:34.629Z"
      },
      {
        "duration": 396,
        "start_time": "2025-01-23T15:40:34.655Z"
      },
      {
        "duration": 43,
        "start_time": "2025-01-23T15:40:35.052Z"
      },
      {
        "duration": 49,
        "start_time": "2025-01-23T15:40:35.096Z"
      },
      {
        "duration": 13,
        "start_time": "2025-01-23T15:40:35.147Z"
      },
      {
        "duration": 5,
        "start_time": "2025-01-23T15:40:35.161Z"
      },
      {
        "duration": 6,
        "start_time": "2025-01-23T15:40:35.167Z"
      },
      {
        "duration": 5,
        "start_time": "2025-01-23T15:40:35.174Z"
      },
      {
        "duration": 18,
        "start_time": "2025-01-23T15:40:35.180Z"
      },
      {
        "duration": 306,
        "start_time": "2025-01-23T15:40:35.200Z"
      },
      {
        "duration": 293,
        "start_time": "2025-01-23T15:40:35.508Z"
      }
    ],
    "kernelspec": {
      "display_name": "Python 3 (ipykernel)",
      "language": "python",
      "name": "python3"
    },
    "language_info": {
      "codemirror_mode": {
        "name": "ipython",
        "version": 3
      },
      "file_extension": ".py",
      "mimetype": "text/x-python",
      "name": "python",
      "nbconvert_exporter": "python",
      "pygments_lexer": "ipython3",
      "version": "3.9.5"
    },
    "toc": {
      "base_numbering": 1,
      "nav_menu": {},
      "number_sections": true,
      "sideBar": true,
      "skip_h1_title": true,
      "title_cell": "Table of Contents",
      "title_sidebar": "Contents",
      "toc_cell": false,
      "toc_position": {
        "height": "calc(100% - 180px)",
        "left": "10px",
        "top": "150px",
        "width": "217.943px"
      },
      "toc_section_display": true,
      "toc_window_display": true
    },
    "colab": {
      "provenance": []
    }
  },
  "nbformat": 4,
  "nbformat_minor": 5
}